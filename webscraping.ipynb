{
  "nbformat": 4,
  "nbformat_minor": 0,
  "metadata": {
    "colab": {
      "name": "webscraping.ipynb",
      "provenance": [],
      "authorship_tag": "ABX9TyNB7lA60M6MhBb6A4rlg7NN",
      "include_colab_link": true
    },
    "kernelspec": {
      "name": "python3",
      "display_name": "Python 3"
    },
    "language_info": {
      "name": "python"
    }
  },
  "cells": [
    {
      "cell_type": "markdown",
      "metadata": {
        "id": "view-in-github",
        "colab_type": "text"
      },
      "source": [
        "<a href=\"https://colab.research.google.com/github/sadaqatali1234/AI-Q2-learning-resources/blob/master/webscraping.ipynb\" target=\"_parent\"><img src=\"https://colab.research.google.com/assets/colab-badge.svg\" alt=\"Open In Colab\"/></a>"
      ]
    },
    {
      "cell_type": "code",
      "metadata": {
        "id": "3E7lGXucQNdH"
      },
      "source": [
        "import requests"
      ],
      "execution_count": 1,
      "outputs": []
    },
    {
      "cell_type": "code",
      "metadata": {
        "id": "qUJPcwwXQUKf"
      },
      "source": [
        "topic_url=\"https://github.com/topics\""
      ],
      "execution_count": 2,
      "outputs": []
    },
    {
      "cell_type": "code",
      "metadata": {
        "id": "ToqKKrM3Qd-_"
      },
      "source": [
        "response=requests.get(topic_url)"
      ],
      "execution_count": 3,
      "outputs": []
    },
    {
      "cell_type": "code",
      "metadata": {
        "colab": {
          "base_uri": "https://localhost:8080/"
        },
        "id": "rzaZB1mwSU7_",
        "outputId": "174f0452-9278-4503-9be9-524ffcc3a2d1"
      },
      "source": [
        "response"
      ],
      "execution_count": 4,
      "outputs": [
        {
          "output_type": "execute_result",
          "data": {
            "text/plain": [
              "<Response [200]>"
            ]
          },
          "metadata": {
            "tags": []
          },
          "execution_count": 4
        }
      ]
    },
    {
      "cell_type": "code",
      "metadata": {
        "colab": {
          "base_uri": "https://localhost:8080/"
        },
        "id": "OTiht9iiaHJe",
        "outputId": "d7439395-dbbb-425d-b90c-94ec29b2930c"
      },
      "source": [
        "len(response.text)"
      ],
      "execution_count": 5,
      "outputs": [
        {
          "output_type": "execute_result",
          "data": {
            "text/plain": [
              "128541"
            ]
          },
          "metadata": {
            "tags": []
          },
          "execution_count": 5
        }
      ]
    },
    {
      "cell_type": "code",
      "metadata": {
        "colab": {
          "base_uri": "https://localhost:8080/"
        },
        "id": "0HwIbum_aMkl",
        "outputId": "5334bade-219d-41f9-de41-06507e19d0a8"
      },
      "source": [
        "response.status_code"
      ],
      "execution_count": 6,
      "outputs": [
        {
          "output_type": "execute_result",
          "data": {
            "text/plain": [
              "200"
            ]
          },
          "metadata": {
            "tags": []
          },
          "execution_count": 6
        }
      ]
    },
    {
      "cell_type": "code",
      "metadata": {
        "id": "XwbXYPKnaWpj"
      },
      "source": [
        "page_contents=response.text"
      ],
      "execution_count": 7,
      "outputs": []
    },
    {
      "cell_type": "code",
      "metadata": {
        "colab": {
          "base_uri": "https://localhost:8080/",
          "height": 171
        },
        "id": "TwmcuWX4a4wg",
        "outputId": "f4b07833-4b57-4b8b-cbae-17805ff02ff6"
      },
      "source": [
        "page_contents[:1000]"
      ],
      "execution_count": 8,
      "outputs": [
        {
          "output_type": "execute_result",
          "data": {
            "application/vnd.google.colaboratory.intrinsic+json": {
              "type": "string"
            },
            "text/plain": [
              "'\\n\\n<!DOCTYPE html>\\n<html lang=\"en\" data-color-mode=\"auto\" data-light-theme=\"light\" data-dark-theme=\"dark\">\\n  <head>\\n    <meta charset=\"utf-8\">\\n  <link rel=\"dns-prefetch\" href=\"https://github.githubassets.com\">\\n  <link rel=\"dns-prefetch\" href=\"https://avatars.githubusercontent.com\">\\n  <link rel=\"dns-prefetch\" href=\"https://github-cloud.s3.amazonaws.com\">\\n  <link rel=\"dns-prefetch\" href=\"https://user-images.githubusercontent.com/\">\\n\\n\\n\\n  <link crossorigin=\"anonymous\" media=\"all\" integrity=\"sha512-hsKC3ypJkUX/imnakufPNinmC1hvlGtwN80bcJ9eo6idrtk/bKAiSmsjspBviwNrFmFlEsjycjUAtT4Ae+x0rQ==\" rel=\"stylesheet\" href=\"https://github.githubassets.com/assets/frameworks-86c282df2a499145ff8a69da92e7cf36.css\" />\\n  \\n    <link crossorigin=\"anonymous\" media=\"all\" integrity=\"sha512-ODG6mt8VrPLP1iF4673MMcI5N2uyooaJ910iorfWKXm6F/XCsJMunCed2+SV1sWVbNRIchvkDmFGDXRP9WJHRg==\" rel=\"stylesheet\" href=\"https://github.githubassets.com/assets/behaviors-3831ba9adf15acf2cfd62178ebbdcc31.css\" />\\n    \\n    \\n    \\n    <link cro'"
            ]
          },
          "metadata": {
            "tags": []
          },
          "execution_count": 8
        }
      ]
    },
    {
      "cell_type": "code",
      "metadata": {
        "id": "QJGoPgj1aq12"
      },
      "source": [
        "with open(\"webpage.html\",'w') as f:\n",
        "  f.write(page_contents)"
      ],
      "execution_count": 9,
      "outputs": []
    },
    {
      "cell_type": "code",
      "metadata": {
        "id": "95DQz1uBbZlb"
      },
      "source": [
        "from bs4 import BeautifulSoup"
      ],
      "execution_count": 10,
      "outputs": []
    },
    {
      "cell_type": "code",
      "metadata": {
        "id": "49hnAoygdssa"
      },
      "source": [
        "doc= BeautifulSoup(page_contents,\"html.parser\")"
      ],
      "execution_count": 11,
      "outputs": []
    },
    {
      "cell_type": "code",
      "metadata": {
        "colab": {
          "base_uri": "https://localhost:8080/"
        },
        "id": "8v-0k5GveJ7P",
        "outputId": "cb2f962b-2de1-44a3-b8a3-7d1fd1e1369b"
      },
      "source": [
        "type(doc)"
      ],
      "execution_count": 12,
      "outputs": [
        {
          "output_type": "execute_result",
          "data": {
            "text/plain": [
              "bs4.BeautifulSoup"
            ]
          },
          "metadata": {
            "tags": []
          },
          "execution_count": 12
        }
      ]
    },
    {
      "cell_type": "code",
      "metadata": {
        "id": "iZfmu6_qeTFv"
      },
      "source": [
        "topic_title_p_tags=doc.find_all(\"p\",{\"class\":\"f3 lh-condensed mb-0 mt-1 Link--primary\"})"
      ],
      "execution_count": 13,
      "outputs": []
    },
    {
      "cell_type": "code",
      "metadata": {
        "colab": {
          "base_uri": "https://localhost:8080/"
        },
        "id": "i6_aCmMufYnT",
        "outputId": "c7bf2650-199e-4361-ade0-94b696bf6ed0"
      },
      "source": [
        "len(topic_title_p_tags)"
      ],
      "execution_count": 14,
      "outputs": [
        {
          "output_type": "execute_result",
          "data": {
            "text/plain": [
              "30"
            ]
          },
          "metadata": {
            "tags": []
          },
          "execution_count": 14
        }
      ]
    },
    {
      "cell_type": "code",
      "metadata": {
        "colab": {
          "base_uri": "https://localhost:8080/"
        },
        "id": "EQ8P5A0RfLZi",
        "outputId": "4b341317-e64f-41e4-a6c5-1e7e64aa5f3b"
      },
      "source": [
        "topic_title_p_tags[:5]"
      ],
      "execution_count": 15,
      "outputs": [
        {
          "output_type": "execute_result",
          "data": {
            "text/plain": [
              "[<p class=\"f3 lh-condensed mb-0 mt-1 Link--primary\">3D</p>,\n",
              " <p class=\"f3 lh-condensed mb-0 mt-1 Link--primary\">Ajax</p>,\n",
              " <p class=\"f3 lh-condensed mb-0 mt-1 Link--primary\">Algorithm</p>,\n",
              " <p class=\"f3 lh-condensed mb-0 mt-1 Link--primary\">Amp</p>,\n",
              " <p class=\"f3 lh-condensed mb-0 mt-1 Link--primary\">Android</p>]"
            ]
          },
          "metadata": {
            "tags": []
          },
          "execution_count": 15
        }
      ]
    },
    {
      "cell_type": "code",
      "metadata": {
        "id": "rHKghir1fPj1"
      },
      "source": [
        "topic_description_tag=doc.find_all(\"p\",{\"class\":\"f5 color-text-secondary mb-0 mt-1\"})"
      ],
      "execution_count": 16,
      "outputs": []
    },
    {
      "cell_type": "code",
      "metadata": {
        "colab": {
          "base_uri": "https://localhost:8080/"
        },
        "id": "jSeUylhahwYE",
        "outputId": "b5423022-0542-49ab-a369-664470f0cc6e"
      },
      "source": [
        "topic_description_tag[:5]"
      ],
      "execution_count": 17,
      "outputs": [
        {
          "output_type": "execute_result",
          "data": {
            "text/plain": [
              "[<p class=\"f5 color-text-secondary mb-0 mt-1\">\n",
              "               3D modeling is the process of virtually developing the surface and structure of a 3D object.\n",
              "             </p>, <p class=\"f5 color-text-secondary mb-0 mt-1\">\n",
              "               Ajax is a technique for creating interactive web applications.\n",
              "             </p>, <p class=\"f5 color-text-secondary mb-0 mt-1\">\n",
              "               Algorithms are self-contained sequences that carry out a variety of tasks.\n",
              "             </p>, <p class=\"f5 color-text-secondary mb-0 mt-1\">\n",
              "               Amp is a non-blocking concurrency framework for PHP.\n",
              "             </p>, <p class=\"f5 color-text-secondary mb-0 mt-1\">\n",
              "               Android is an operating system built by Google designed for mobile devices.\n",
              "             </p>]"
            ]
          },
          "metadata": {
            "tags": []
          },
          "execution_count": 17
        }
      ]
    },
    {
      "cell_type": "code",
      "metadata": {
        "id": "iO3LVQVqhz3C"
      },
      "source": [
        "topic_title_p_tags_0=topic_title_p_tags[0]"
      ],
      "execution_count": 18,
      "outputs": []
    },
    {
      "cell_type": "code",
      "metadata": {
        "colab": {
          "base_uri": "https://localhost:8080/"
        },
        "id": "tkQTWe78ieVz",
        "outputId": "14ae6558-5558-43b2-ec4c-59d312031c87"
      },
      "source": [
        "topic_title_p_tags_0"
      ],
      "execution_count": 19,
      "outputs": [
        {
          "output_type": "execute_result",
          "data": {
            "text/plain": [
              "<p class=\"f3 lh-condensed mb-0 mt-1 Link--primary\">3D</p>"
            ]
          },
          "metadata": {
            "tags": []
          },
          "execution_count": 19
        }
      ]
    },
    {
      "cell_type": "code",
      "metadata": {
        "colab": {
          "base_uri": "https://localhost:8080/"
        },
        "id": "85YLS1V0iihD",
        "outputId": "4eaead7c-b5e2-4ad4-aaba-a12f0871cc8a"
      },
      "source": [
        "div_tag=topic_title_p_tags_0.parent\n",
        "div_tag"
      ],
      "execution_count": 20,
      "outputs": [
        {
          "output_type": "execute_result",
          "data": {
            "text/plain": [
              "<div class=\"flex-auto\">\n",
              "<p class=\"f3 lh-condensed mb-0 mt-1 Link--primary\">3D</p>\n",
              "<p class=\"f5 color-text-secondary mb-0 mt-1\">\n",
              "              3D modeling is the process of virtually developing the surface and structure of a 3D object.\n",
              "            </p>\n",
              "</div>"
            ]
          },
          "metadata": {
            "tags": []
          },
          "execution_count": 20
        }
      ]
    },
    {
      "cell_type": "code",
      "metadata": {
        "colab": {
          "base_uri": "https://localhost:8080/"
        },
        "id": "EM_LLPwmipB7",
        "outputId": "8b883e40-ccb1-4010-f829-fbb8b89022b7"
      },
      "source": [
        "topic_title_p_tags_0.parent.parent"
      ],
      "execution_count": 21,
      "outputs": [
        {
          "output_type": "execute_result",
          "data": {
            "text/plain": [
              "<div class=\"d-sm-flex flex-auto\">\n",
              "<div class=\"flex-auto\">\n",
              "<p class=\"f3 lh-condensed mb-0 mt-1 Link--primary\">3D</p>\n",
              "<p class=\"f5 color-text-secondary mb-0 mt-1\">\n",
              "              3D modeling is the process of virtually developing the surface and structure of a 3D object.\n",
              "            </p>\n",
              "</div>\n",
              "<div class=\"d-inline-block js-toggler-container starring-container\">\n",
              "<a aria-label=\"You must be signed in to star a topic\" class=\"btn btn-sm d-flex flex-items-center\" data-ga-click=\"Explore, click star button when signed out,\n",
              "        action:topics#index;\n",
              "        text:Star\" href=\"/login?return_to=%2Ftopics%2F3d\" title=\"You must be signed in to star a topic\">\n",
              "<svg aria-hidden=\"true\" class=\"octicon octicon-star mr-1\" height=\"16\" version=\"1.1\" viewbox=\"0 0 16 16\" width=\"16\"><path d=\"M8 .25a.75.75 0 01.673.418l1.882 3.815 4.21.612a.75.75 0 01.416 1.279l-3.046 2.97.719 4.192a.75.75 0 01-1.088.791L8 12.347l-3.766 1.98a.75.75 0 01-1.088-.79l.72-4.194L.818 6.374a.75.75 0 01.416-1.28l4.21-.611L7.327.668A.75.75 0 018 .25zm0 2.445L6.615 5.5a.75.75 0 01-.564.41l-3.097.45 2.24 2.184a.75.75 0 01.216.664l-.528 3.084 2.769-1.456a.75.75 0 01.698 0l2.77 1.456-.53-3.084a.75.75 0 01.216-.664l2.24-2.183-3.096-.45a.75.75 0 01-.564-.41L8 2.694v.001z\" fill-rule=\"evenodd\"></path></svg>Star\n",
              "    </a>\n",
              "</div>\n",
              "</div>"
            ]
          },
          "metadata": {
            "tags": []
          },
          "execution_count": 21
        }
      ]
    },
    {
      "cell_type": "code",
      "metadata": {
        "id": "PX2Rv1hji4Fm"
      },
      "source": [
        "topic_link_page=doc.find_all(\"a\",{\"class\":\"d-flex no-underline\"})"
      ],
      "execution_count": 22,
      "outputs": []
    },
    {
      "cell_type": "code",
      "metadata": {
        "colab": {
          "base_uri": "https://localhost:8080/"
        },
        "id": "dkKvHfbhtOlD",
        "outputId": "a70ccd67-5bb8-4de5-c81d-283a189f0f5b"
      },
      "source": [
        "len(topic_link_page)"
      ],
      "execution_count": 23,
      "outputs": [
        {
          "output_type": "execute_result",
          "data": {
            "text/plain": [
              "30"
            ]
          },
          "metadata": {
            "tags": []
          },
          "execution_count": 23
        }
      ]
    },
    {
      "cell_type": "code",
      "metadata": {
        "colab": {
          "base_uri": "https://localhost:8080/",
          "height": 35
        },
        "id": "RxKhnl93tawe",
        "outputId": "5e8253c4-17f7-4b2b-a939-49d44919023b"
      },
      "source": [
        "topic_link_page[0][\"href\"]"
      ],
      "execution_count": 24,
      "outputs": [
        {
          "output_type": "execute_result",
          "data": {
            "application/vnd.google.colaboratory.intrinsic+json": {
              "type": "string"
            },
            "text/plain": [
              "'/topics/3d'"
            ]
          },
          "metadata": {
            "tags": []
          },
          "execution_count": 24
        }
      ]
    },
    {
      "cell_type": "code",
      "metadata": {
        "id": "M6kGYepwwGQu"
      },
      "source": [
        "topic_0_url=\"https ://github.com\"+topic_link_page[0][\"href\"]"
      ],
      "execution_count": 25,
      "outputs": []
    },
    {
      "cell_type": "code",
      "metadata": {
        "colab": {
          "base_uri": "https://localhost:8080/"
        },
        "id": "gyg3yUrHwj_O",
        "outputId": "33896a17-22b3-4a0f-a20d-4c6ce5aa4408"
      },
      "source": [
        "\n",
        "print(topic_0_url)"
      ],
      "execution_count": 26,
      "outputs": [
        {
          "output_type": "stream",
          "text": [
            "https ://github.com/topics/3d\n"
          ],
          "name": "stdout"
        }
      ]
    },
    {
      "cell_type": "code",
      "metadata": {
        "colab": {
          "base_uri": "https://localhost:8080/"
        },
        "id": "yJM32xphwl5l",
        "outputId": "20bbbfe5-b724-4b33-c5a7-e60a99f2262e"
      },
      "source": [
        "topic_title=[]\n",
        "for tag in topic_title_p_tags:\n",
        "  topic_title.append(tag.text)\n",
        "\n",
        "\n",
        "print(topic_title)\n",
        "print(len(topic_title))\n"
      ],
      "execution_count": 27,
      "outputs": [
        {
          "output_type": "stream",
          "text": [
            "['3D', 'Ajax', 'Algorithm', 'Amp', 'Android', 'Angular', 'Ansible', 'API', 'Arduino', 'ASP.NET', 'Atom', 'Awesome Lists', 'Amazon Web Services', 'Azure', 'Babel', 'Bash', 'Bitcoin', 'Bootstrap', 'Bot', 'C', 'Chrome', 'Chrome extension', 'Command line interface', 'Clojure', 'Code quality', 'Code review', 'Compiler', 'Continuous integration', 'COVID-19', 'C++']\n",
            "30\n"
          ],
          "name": "stdout"
        }
      ]
    },
    {
      "cell_type": "code",
      "metadata": {
        "colab": {
          "base_uri": "https://localhost:8080/"
        },
        "id": "DwP2NhRvxyYP",
        "outputId": "3e1cb9a9-054f-4e3f-8459-60ac797496af"
      },
      "source": [
        "topic_descrip=[]\n",
        "for tag in topic_description_tag:\n",
        "  topic_descrip.append(tag.text)\n",
        "print(topic_descrip)"
      ],
      "execution_count": 28,
      "outputs": [
        {
          "output_type": "stream",
          "text": [
            "['\\n              3D modeling is the process of virtually developing the surface and structure of a 3D object.\\n            ', '\\n              Ajax is a technique for creating interactive web applications.\\n            ', '\\n              Algorithms are self-contained sequences that carry out a variety of tasks.\\n            ', '\\n              Amp is a non-blocking concurrency framework for PHP.\\n            ', '\\n              Android is an operating system built by Google designed for mobile devices.\\n            ', '\\n              Angular is an open source web application platform.\\n            ', '\\n              Ansible is a simple and powerful automation engine.\\n            ', '\\n              An API (Application Programming Interface) is a collection of protocols and subroutines for building software.\\n            ', '\\n              Arduino is an open source hardware and software company and maker community.\\n            ', '\\n              ASP.NET is a web framework for building modern web apps and services.\\n            ', '\\n              Atom is a open source text editor built with web technologies.\\n            ', '\\n              An awesome list is a list of awesome things curated by the community.\\n            ', '\\n              Amazon Web Services provides on-demand cloud computing platforms on a subscription basis.\\n            ', '\\n              Azure is a cloud computing service created by Microsoft.\\n            ', '\\n              Babel is a compiler for writing next generation JavaScript, today.\\n            ', '\\n              Bash is a shell and command language interpreter for the GNU operating system.\\n            ', '\\n              Bitcoin is a cryptocurrency developed by Satoshi Nakamoto.\\n            ', '\\n              Bootstrap is an HTML, CSS, and JavaScript framework.\\n            ', '\\n              A bot is an application that runs automated tasks over the Internet.\\n            ', '\\n              C is a general purpose programming language that first appeared in 1972.\\n            ', '\\n              Chrome is a web browser from the tech company Google.\\n            ', '\\n              Google Chrome Extensions are add-ons that allow users to customize their Chrome web browser.\\n            ', '\\n              A CLI, or command-line interface, is a console that helps users issue commands to a program.\\n            ', '\\n              Clojure is a dynamic, general-purpose programming language.\\n            ', '\\n              Automate your code review with style, quality, security, and test‑coverage checks when you need them.\\n            ', '\\n              Ensure your code meets quality standards and ship with confidence.\\n            ', '\\n              Compilers are software that translate higher-level programming languages to lower-level languages (e.g. machine code).\\n            ', '\\n              Automatically build and test your code as you push it upstream, preventing bugs from being deployed to production.\\n            ', '\\n              The coronavirus disease 2019 (COVID-19) is an infectious disease caused by SARS-CoV-2.\\n            ', '\\n              C++ is a general purpose and object-oriented programming language.\\n            ']\n"
          ],
          "name": "stdout"
        }
      ]
    },
    {
      "cell_type": "code",
      "metadata": {
        "colab": {
          "base_uri": "https://localhost:8080/"
        },
        "id": "h06sToRcyqT5",
        "outputId": "a1bbf5e2-e8bc-4822-c06a-12acc15c9fc0"
      },
      "source": [
        "topic_descrip=[]\n",
        "for tag in topic_description_tag:\n",
        "  topic_descrip.append(tag.text.strip())\n",
        "print(topic_descrip)"
      ],
      "execution_count": 29,
      "outputs": [
        {
          "output_type": "stream",
          "text": [
            "['3D modeling is the process of virtually developing the surface and structure of a 3D object.', 'Ajax is a technique for creating interactive web applications.', 'Algorithms are self-contained sequences that carry out a variety of tasks.', 'Amp is a non-blocking concurrency framework for PHP.', 'Android is an operating system built by Google designed for mobile devices.', 'Angular is an open source web application platform.', 'Ansible is a simple and powerful automation engine.', 'An API (Application Programming Interface) is a collection of protocols and subroutines for building software.', 'Arduino is an open source hardware and software company and maker community.', 'ASP.NET is a web framework for building modern web apps and services.', 'Atom is a open source text editor built with web technologies.', 'An awesome list is a list of awesome things curated by the community.', 'Amazon Web Services provides on-demand cloud computing platforms on a subscription basis.', 'Azure is a cloud computing service created by Microsoft.', 'Babel is a compiler for writing next generation JavaScript, today.', 'Bash is a shell and command language interpreter for the GNU operating system.', 'Bitcoin is a cryptocurrency developed by Satoshi Nakamoto.', 'Bootstrap is an HTML, CSS, and JavaScript framework.', 'A bot is an application that runs automated tasks over the Internet.', 'C is a general purpose programming language that first appeared in 1972.', 'Chrome is a web browser from the tech company Google.', 'Google Chrome Extensions are add-ons that allow users to customize their Chrome web browser.', 'A CLI, or command-line interface, is a console that helps users issue commands to a program.', 'Clojure is a dynamic, general-purpose programming language.', 'Automate your code review with style, quality, security, and test‑coverage checks when you need them.', 'Ensure your code meets quality standards and ship with confidence.', 'Compilers are software that translate higher-level programming languages to lower-level languages (e.g. machine code).', 'Automatically build and test your code as you push it upstream, preventing bugs from being deployed to production.', 'The coronavirus disease 2019 (COVID-19) is an infectious disease caused by SARS-CoV-2.', 'C++ is a general purpose and object-oriented programming language.']\n"
          ],
          "name": "stdout"
        }
      ]
    },
    {
      "cell_type": "code",
      "metadata": {
        "colab": {
          "base_uri": "https://localhost:8080/"
        },
        "id": "v2Ee6CSVywo-",
        "outputId": "e8a0a58d-af0e-46d8-ed8c-66c0a3c0e73c"
      },
      "source": [
        "topic_urls=[]\n",
        "for tag in topic_link_page:\n",
        "  topic_urls.append(tag[\"href\"])\n",
        "print(topic_urls)"
      ],
      "execution_count": 30,
      "outputs": [
        {
          "output_type": "stream",
          "text": [
            "['/topics/3d', '/topics/ajax', '/topics/algorithm', '/topics/amphp', '/topics/android', '/topics/angular', '/topics/ansible', '/topics/api', '/topics/arduino', '/topics/aspnet', '/topics/atom', '/topics/awesome', '/topics/aws', '/topics/azure', '/topics/babel', '/topics/bash', '/topics/bitcoin', '/topics/bootstrap', '/topics/bot', '/topics/c', '/topics/chrome', '/topics/chrome-extension', '/topics/cli', '/topics/clojure', '/topics/code-quality', '/topics/code-review', '/topics/compiler', '/topics/continuous-integration', '/topics/covid-19', '/topics/cpp']\n"
          ],
          "name": "stdout"
        }
      ]
    },
    {
      "cell_type": "code",
      "metadata": {
        "colab": {
          "base_uri": "https://localhost:8080/"
        },
        "id": "QT8oeKIizJPX",
        "outputId": "cb4ba876-fc10-4d2d-f54c-25d5e29faf5e"
      },
      "source": [
        "topic_urls=[]\n",
        "for tag in topic_link_page:\n",
        "  topic_urls.append(\"https://github.com\"+tag[\"href\"])\n",
        "print(topic_urls)"
      ],
      "execution_count": 31,
      "outputs": [
        {
          "output_type": "stream",
          "text": [
            "['https://github.com/topics/3d', 'https://github.com/topics/ajax', 'https://github.com/topics/algorithm', 'https://github.com/topics/amphp', 'https://github.com/topics/android', 'https://github.com/topics/angular', 'https://github.com/topics/ansible', 'https://github.com/topics/api', 'https://github.com/topics/arduino', 'https://github.com/topics/aspnet', 'https://github.com/topics/atom', 'https://github.com/topics/awesome', 'https://github.com/topics/aws', 'https://github.com/topics/azure', 'https://github.com/topics/babel', 'https://github.com/topics/bash', 'https://github.com/topics/bitcoin', 'https://github.com/topics/bootstrap', 'https://github.com/topics/bot', 'https://github.com/topics/c', 'https://github.com/topics/chrome', 'https://github.com/topics/chrome-extension', 'https://github.com/topics/cli', 'https://github.com/topics/clojure', 'https://github.com/topics/code-quality', 'https://github.com/topics/code-review', 'https://github.com/topics/compiler', 'https://github.com/topics/continuous-integration', 'https://github.com/topics/covid-19', 'https://github.com/topics/cpp']\n"
          ],
          "name": "stdout"
        }
      ]
    },
    {
      "cell_type": "code",
      "metadata": {
        "id": "y4oQZxzczpBa"
      },
      "source": [
        "import pandas as pd"
      ],
      "execution_count": 32,
      "outputs": []
    },
    {
      "cell_type": "code",
      "metadata": {
        "colab": {
          "base_uri": "https://localhost:8080/",
          "height": 204
        },
        "id": "fnPn2JP70JZl",
        "outputId": "06c516b1-81da-441a-f3e0-39bb7c6c7592"
      },
      "source": [
        "dic={\"Title\":topic_title,\"Descrip\":topic_descrip,\"Urls\":topic_urls}\n",
        "df=pd.DataFrame(dic)\n",
        "df.head()"
      ],
      "execution_count": 33,
      "outputs": [
        {
          "output_type": "execute_result",
          "data": {
            "text/html": [
              "<div>\n",
              "<style scoped>\n",
              "    .dataframe tbody tr th:only-of-type {\n",
              "        vertical-align: middle;\n",
              "    }\n",
              "\n",
              "    .dataframe tbody tr th {\n",
              "        vertical-align: top;\n",
              "    }\n",
              "\n",
              "    .dataframe thead th {\n",
              "        text-align: right;\n",
              "    }\n",
              "</style>\n",
              "<table border=\"1\" class=\"dataframe\">\n",
              "  <thead>\n",
              "    <tr style=\"text-align: right;\">\n",
              "      <th></th>\n",
              "      <th>Title</th>\n",
              "      <th>Descrip</th>\n",
              "      <th>Urls</th>\n",
              "    </tr>\n",
              "  </thead>\n",
              "  <tbody>\n",
              "    <tr>\n",
              "      <th>0</th>\n",
              "      <td>3D</td>\n",
              "      <td>3D modeling is the process of virtually develo...</td>\n",
              "      <td>https://github.com/topics/3d</td>\n",
              "    </tr>\n",
              "    <tr>\n",
              "      <th>1</th>\n",
              "      <td>Ajax</td>\n",
              "      <td>Ajax is a technique for creating interactive w...</td>\n",
              "      <td>https://github.com/topics/ajax</td>\n",
              "    </tr>\n",
              "    <tr>\n",
              "      <th>2</th>\n",
              "      <td>Algorithm</td>\n",
              "      <td>Algorithms are self-contained sequences that c...</td>\n",
              "      <td>https://github.com/topics/algorithm</td>\n",
              "    </tr>\n",
              "    <tr>\n",
              "      <th>3</th>\n",
              "      <td>Amp</td>\n",
              "      <td>Amp is a non-blocking concurrency framework fo...</td>\n",
              "      <td>https://github.com/topics/amphp</td>\n",
              "    </tr>\n",
              "    <tr>\n",
              "      <th>4</th>\n",
              "      <td>Android</td>\n",
              "      <td>Android is an operating system built by Google...</td>\n",
              "      <td>https://github.com/topics/android</td>\n",
              "    </tr>\n",
              "  </tbody>\n",
              "</table>\n",
              "</div>"
            ],
            "text/plain": [
              "       Title  ...                                 Urls\n",
              "0         3D  ...         https://github.com/topics/3d\n",
              "1       Ajax  ...       https://github.com/topics/ajax\n",
              "2  Algorithm  ...  https://github.com/topics/algorithm\n",
              "3        Amp  ...      https://github.com/topics/amphp\n",
              "4    Android  ...    https://github.com/topics/android\n",
              "\n",
              "[5 rows x 3 columns]"
            ]
          },
          "metadata": {
            "tags": []
          },
          "execution_count": 33
        }
      ]
    },
    {
      "cell_type": "code",
      "metadata": {
        "id": "JsctHBeZ1Dhj"
      },
      "source": [
        "df.to_csv(\"topics.csv\",index=None)"
      ],
      "execution_count": 34,
      "outputs": []
    },
    {
      "cell_type": "code",
      "metadata": {
        "id": "B2hcONzt2lZ8",
        "colab": {
          "base_uri": "https://localhost:8080/"
        },
        "outputId": "8b45bc98-046c-4c44-b73a-91429b23eff1"
      },
      "source": [
        "topic_link_page[0]"
      ],
      "execution_count": 38,
      "outputs": [
        {
          "output_type": "execute_result",
          "data": {
            "text/plain": [
              "<a class=\"d-flex no-underline\" data-ga-click=\"Explore, go to 3d, location:All featured topics\" href=\"/topics/3d\">\n",
              "<div class=\"color-bg-info f4 color-text-tertiary text-bold rounded mr-3 flex-shrink-0 text-center\" style=\"width:64px; height:64px; line-height:64px;\">\n",
              "            #\n",
              "          </div>\n",
              "<div class=\"d-sm-flex flex-auto\">\n",
              "<div class=\"flex-auto\">\n",
              "<p class=\"f3 lh-condensed mb-0 mt-1 Link--primary\">3D</p>\n",
              "<p class=\"f5 color-text-secondary mb-0 mt-1\">\n",
              "              3D modeling is the process of virtually developing the surface and structure of a 3D object.\n",
              "            </p>\n",
              "</div>\n",
              "<div class=\"d-inline-block js-toggler-container starring-container\">\n",
              "<a aria-label=\"You must be signed in to star a topic\" class=\"btn btn-sm d-flex flex-items-center\" data-ga-click=\"Explore, click star button when signed out,\n",
              "        action:topics#index;\n",
              "        text:Star\" href=\"/login?return_to=%2Ftopics%2F3d\" title=\"You must be signed in to star a topic\">\n",
              "<svg aria-hidden=\"true\" class=\"octicon octicon-star mr-1\" height=\"16\" version=\"1.1\" viewbox=\"0 0 16 16\" width=\"16\"><path d=\"M8 .25a.75.75 0 01.673.418l1.882 3.815 4.21.612a.75.75 0 01.416 1.279l-3.046 2.97.719 4.192a.75.75 0 01-1.088.791L8 12.347l-3.766 1.98a.75.75 0 01-1.088-.79l.72-4.194L.818 6.374a.75.75 0 01.416-1.28l4.21-.611L7.327.668A.75.75 0 018 .25zm0 2.445L6.615 5.5a.75.75 0 01-.564.41l-3.097.45 2.24 2.184a.75.75 0 01.216.664l-.528 3.084 2.769-1.456a.75.75 0 01.698 0l2.77 1.456-.53-3.084a.75.75 0 01.216-.664l2.24-2.183-3.096-.45a.75.75 0 01-.564-.41L8 2.694v.001z\" fill-rule=\"evenodd\"></path></svg>Star\n",
              "    </a>\n",
              "</div>\n",
              "</div>\n",
              "</a>"
            ]
          },
          "metadata": {
            "tags": []
          },
          "execution_count": 38
        }
      ]
    },
    {
      "cell_type": "markdown",
      "metadata": {
        "id": "Hrv2cYcW2oID"
      },
      "source": [
        ""
      ]
    },
    {
      "cell_type": "code",
      "metadata": {
        "id": "d2TrES7v2oym",
        "colab": {
          "base_uri": "https://localhost:8080/"
        },
        "outputId": "2ce6a190-4c88-4448-8f19-2c58445094ed"
      },
      "source": [
        "\n",
        "response= requests.get(topic_urls[0])\n",
        "response.status_code"
      ],
      "execution_count": 42,
      "outputs": [
        {
          "output_type": "execute_result",
          "data": {
            "text/plain": [
              "200"
            ]
          },
          "metadata": {
            "tags": []
          },
          "execution_count": 42
        }
      ]
    },
    {
      "cell_type": "code",
      "metadata": {
        "colab": {
          "base_uri": "https://localhost:8080/"
        },
        "id": "jrg4hpBX4ue9",
        "outputId": "17d32b6a-883f-4d1e-fc67-b339f9d69d87"
      },
      "source": [
        "len(response.text)"
      ],
      "execution_count": 43,
      "outputs": [
        {
          "output_type": "execute_result",
          "data": {
            "text/plain": [
              "612018"
            ]
          },
          "metadata": {
            "tags": []
          },
          "execution_count": 43
        }
      ]
    },
    {
      "cell_type": "code",
      "metadata": {
        "id": "uU51i64m50V9"
      },
      "source": [
        "topic_doc=BeautifulSoup(response.text,\"html.parser\")"
      ],
      "execution_count": 47,
      "outputs": []
    },
    {
      "cell_type": "code",
      "metadata": {
        "id": "O3X7TFEe6CXP"
      },
      "source": [
        "username_tags=topic_doc.find_all(\"h1\",{\"class\":\"f3 color-text-secondary text-normal lh-condensed\"})"
      ],
      "execution_count": 54,
      "outputs": []
    },
    {
      "cell_type": "code",
      "metadata": {
        "colab": {
          "base_uri": "https://localhost:8080/"
        },
        "id": "BysXBknI7hbr",
        "outputId": "f509bc5d-05e6-46db-b597-e6c30dfcc8b5"
      },
      "source": [
        "username_tags"
      ],
      "execution_count": 55,
      "outputs": [
        {
          "output_type": "execute_result",
          "data": {
            "text/plain": [
              "[<h1 class=\"f3 color-text-secondary text-normal lh-condensed\">\n",
              " <a data-ga-click=\"Explore, go to repository owner, location:explore feed\" data-hydro-click='{\"event_type\":\"explore.click\",\"payload\":{\"click_context\":\"REPOSITORY_CARD\",\"click_target\":\"OWNER\",\"click_visual_representation\":\"REPOSITORY_OWNER_HEADING\",\"actor_id\":null,\"record_id\":97088,\"originating_url\":\"https://github.com/topics/3d\",\"user_id\":null}}' data-hydro-click-hmac=\"4bdbc49d3c05ae7f70b531fbce709a384200b0768554e0172950286a8db30940\" data-view-component=\"true\" href=\"/mrdoob\">\n",
              "             mrdoob\n",
              " </a>          /\n",
              "           <a class=\"text-bold\" data-ga-click=\"Explore, go to repository, location:explore feed\" data-hydro-click='{\"event_type\":\"explore.click\",\"payload\":{\"click_context\":\"REPOSITORY_CARD\",\"click_target\":\"REPOSITORY\",\"click_visual_representation\":\"REPOSITORY_NAME_HEADING\",\"actor_id\":null,\"record_id\":576201,\"originating_url\":\"https://github.com/topics/3d\",\"user_id\":null}}' data-hydro-click-hmac=\"517d3d5cb9d89752156923904a4238816bc9b51ab7772f3e3644ce897d8dd4e5\" data-view-component=\"true\" href=\"/mrdoob/three.js\">\n",
              "             three.js\n",
              " </a> </h1>, <h1 class=\"f3 color-text-secondary text-normal lh-condensed\">\n",
              " <a data-ga-click=\"Explore, go to repository owner, location:explore feed\" data-hydro-click='{\"event_type\":\"explore.click\",\"payload\":{\"click_context\":\"REPOSITORY_CARD\",\"click_target\":\"OWNER\",\"click_visual_representation\":\"REPOSITORY_OWNER_HEADING\",\"actor_id\":null,\"record_id\":509841,\"originating_url\":\"https://github.com/topics/3d\",\"user_id\":null}}' data-hydro-click-hmac=\"760dcd7b253cb1a27d9b1a8675e86db885295be4e0d8d9fa7397adf923075d36\" data-view-component=\"true\" href=\"/libgdx\">\n",
              "             libgdx\n",
              " </a>          /\n",
              "           <a class=\"text-bold\" data-ga-click=\"Explore, go to repository, location:explore feed\" data-hydro-click='{\"event_type\":\"explore.click\",\"payload\":{\"click_context\":\"REPOSITORY_CARD\",\"click_target\":\"REPOSITORY\",\"click_visual_representation\":\"REPOSITORY_NAME_HEADING\",\"actor_id\":null,\"record_id\":5373551,\"originating_url\":\"https://github.com/topics/3d\",\"user_id\":null}}' data-hydro-click-hmac=\"ff9d8fbd4b6a268d54aa44ebd06922a789e146ae9d21db01b8ba7839646f5507\" data-view-component=\"true\" href=\"/libgdx/libgdx\">\n",
              "             libgdx\n",
              " </a> </h1>, <h1 class=\"f3 color-text-secondary text-normal lh-condensed\">\n",
              " <a data-ga-click=\"Explore, go to repository owner, location:explore feed\" data-hydro-click='{\"event_type\":\"explore.click\",\"payload\":{\"click_context\":\"REPOSITORY_CARD\",\"click_target\":\"OWNER\",\"click_visual_representation\":\"REPOSITORY_OWNER_HEADING\",\"actor_id\":null,\"record_id\":4855800,\"originating_url\":\"https://github.com/topics/3d\",\"user_id\":null}}' data-hydro-click-hmac=\"35041b8540fc503301f61f50122b6ae6d1b78719943ab6392df86920498edb30\" data-view-component=\"true\" href=\"/BabylonJS\">\n",
              "             BabylonJS\n",
              " </a>          /\n",
              "           <a class=\"text-bold\" data-ga-click=\"Explore, go to repository, location:explore feed\" data-hydro-click='{\"event_type\":\"explore.click\",\"payload\":{\"click_context\":\"REPOSITORY_CARD\",\"click_target\":\"REPOSITORY\",\"click_visual_representation\":\"REPOSITORY_NAME_HEADING\",\"actor_id\":null,\"record_id\":11007313,\"originating_url\":\"https://github.com/topics/3d\",\"user_id\":null}}' data-hydro-click-hmac=\"2806ba0b1f7f4081c38662a53b466b7bc022050b5dafe4108bfab142f5214b41\" data-view-component=\"true\" href=\"/BabylonJS/Babylon.js\">\n",
              "             Babylon.js\n",
              " </a> </h1>, <h1 class=\"f3 color-text-secondary text-normal lh-condensed\">\n",
              " <a data-ga-click=\"Explore, go to repository owner, location:explore feed\" data-hydro-click='{\"event_type\":\"explore.click\",\"payload\":{\"click_context\":\"REPOSITORY_CARD\",\"click_target\":\"OWNER\",\"click_visual_representation\":\"REPOSITORY_OWNER_HEADING\",\"actor_id\":null,\"record_id\":45790596,\"originating_url\":\"https://github.com/topics/3d\",\"user_id\":null}}' data-hydro-click-hmac=\"14658fab6217ec4ba70f16dd98006d4334793fae49cc25ce2e1c0bb5a8950006\" data-view-component=\"true\" href=\"/pmndrs\">\n",
              "             pmndrs\n",
              " </a>          /\n",
              "           <a class=\"text-bold\" data-ga-click=\"Explore, go to repository, location:explore feed\" data-hydro-click='{\"event_type\":\"explore.click\",\"payload\":{\"click_context\":\"REPOSITORY_CARD\",\"click_target\":\"REPOSITORY\",\"click_visual_representation\":\"REPOSITORY_NAME_HEADING\",\"actor_id\":null,\"record_id\":172521926,\"originating_url\":\"https://github.com/topics/3d\",\"user_id\":null}}' data-hydro-click-hmac=\"629be4efc1260d27fe29201a1901eb808cbf995e4a51d877282b7164242dbadf\" data-view-component=\"true\" href=\"/pmndrs/react-three-fiber\">\n",
              "             react-three-fiber\n",
              " </a> </h1>, <h1 class=\"f3 color-text-secondary text-normal lh-condensed\">\n",
              " <a data-ga-click=\"Explore, go to repository owner, location:explore feed\" data-hydro-click='{\"event_type\":\"explore.click\",\"payload\":{\"click_context\":\"REPOSITORY_CARD\",\"click_target\":\"OWNER\",\"click_visual_representation\":\"REPOSITORY_OWNER_HEADING\",\"actor_id\":null,\"record_id\":16024092,\"originating_url\":\"https://github.com/topics/3d\",\"user_id\":null}}' data-hydro-click-hmac=\"b3db1ab47cddd377d61855a33924676044d55c8724ce9233f202e64b2a59e40e\" data-view-component=\"true\" href=\"/aframevr\">\n",
              "             aframevr\n",
              " </a>          /\n",
              "           <a class=\"text-bold\" data-ga-click=\"Explore, go to repository, location:explore feed\" data-hydro-click='{\"event_type\":\"explore.click\",\"payload\":{\"click_context\":\"REPOSITORY_CARD\",\"click_target\":\"REPOSITORY\",\"click_visual_representation\":\"REPOSITORY_NAME_HEADING\",\"actor_id\":null,\"record_id\":42488903,\"originating_url\":\"https://github.com/topics/3d\",\"user_id\":null}}' data-hydro-click-hmac=\"1e97be781c78a538510c9e0a7eb97d3d14666ccab0fce09440cf2ef4f543317a\" data-view-component=\"true\" href=\"/aframevr/aframe\">\n",
              "             aframe\n",
              " </a> </h1>, <h1 class=\"f3 color-text-secondary text-normal lh-condensed\">\n",
              " <a data-ga-click=\"Explore, go to repository owner, location:explore feed\" data-hydro-click='{\"event_type\":\"explore.click\",\"payload\":{\"click_context\":\"REPOSITORY_CARD\",\"click_target\":\"OWNER\",\"click_visual_representation\":\"REPOSITORY_OWNER_HEADING\",\"actor_id\":null,\"record_id\":1029298,\"originating_url\":\"https://github.com/topics/3d\",\"user_id\":null}}' data-hydro-click-hmac=\"35cf14368807d0a0abce48667cf2c0778c4e44ceeb4edde9a860e17a9efe6443\" data-view-component=\"true\" href=\"/ssloy\">\n",
              "             ssloy\n",
              " </a>          /\n",
              "           <a class=\"text-bold\" data-ga-click=\"Explore, go to repository, location:explore feed\" data-hydro-click='{\"event_type\":\"explore.click\",\"payload\":{\"click_context\":\"REPOSITORY_CARD\",\"click_target\":\"REPOSITORY\",\"click_visual_representation\":\"REPOSITORY_NAME_HEADING\",\"actor_id\":null,\"record_id\":29397594,\"originating_url\":\"https://github.com/topics/3d\",\"user_id\":null}}' data-hydro-click-hmac=\"b27b44faaea7b496d3a92fd58b20e39b4306098a16dc535f3a74969bd25fc472\" data-view-component=\"true\" href=\"/ssloy/tinyrenderer\">\n",
              "             tinyrenderer\n",
              " </a> </h1>, <h1 class=\"f3 color-text-secondary text-normal lh-condensed\">\n",
              " <a data-ga-click=\"Explore, go to repository owner, location:explore feed\" data-hydro-click='{\"event_type\":\"explore.click\",\"payload\":{\"click_context\":\"REPOSITORY_CARD\",\"click_target\":\"OWNER\",\"click_visual_representation\":\"REPOSITORY_OWNER_HEADING\",\"actor_id\":null,\"record_id\":1661343,\"originating_url\":\"https://github.com/topics/3d\",\"user_id\":null}}' data-hydro-click-hmac=\"92e006e158e11505867ec48dd3b1f9f2e0a12e03556d650ac6163f635b6018db\" data-view-component=\"true\" href=\"/lettier\">\n",
              "             lettier\n",
              " </a>          /\n",
              "           <a class=\"text-bold\" data-ga-click=\"Explore, go to repository, location:explore feed\" data-hydro-click='{\"event_type\":\"explore.click\",\"payload\":{\"click_context\":\"REPOSITORY_CARD\",\"click_target\":\"REPOSITORY\",\"click_visual_representation\":\"REPOSITORY_NAME_HEADING\",\"actor_id\":null,\"record_id\":186309296,\"originating_url\":\"https://github.com/topics/3d\",\"user_id\":null}}' data-hydro-click-hmac=\"632d2fdc55d44af08fe1e943134b255567a5fc78d44f267f13687602afc3c8f4\" data-view-component=\"true\" href=\"/lettier/3d-game-shaders-for-beginners\">\n",
              "             3d-game-shaders-for-beginners\n",
              " </a> </h1>, <h1 class=\"f3 color-text-secondary text-normal lh-condensed\">\n",
              " <a data-ga-click=\"Explore, go to repository owner, location:explore feed\" data-hydro-click='{\"event_type\":\"explore.click\",\"payload\":{\"click_context\":\"REPOSITORY_CARD\",\"click_target\":\"OWNER\",\"click_visual_representation\":\"REPOSITORY_OWNER_HEADING\",\"actor_id\":null,\"record_id\":2306237,\"originating_url\":\"https://github.com/topics/3d\",\"user_id\":null}}' data-hydro-click-hmac=\"a27e82740ebd440eb8aec51759f134d74f147b9f07c9e1b2a8e960ff36c0e0dd\" data-view-component=\"true\" href=\"/FreeCAD\">\n",
              "             FreeCAD\n",
              " </a>          /\n",
              "           <a class=\"text-bold\" data-ga-click=\"Explore, go to repository, location:explore feed\" data-hydro-click='{\"event_type\":\"explore.click\",\"payload\":{\"click_context\":\"REPOSITORY_CARD\",\"click_target\":\"REPOSITORY\",\"click_visual_representation\":\"REPOSITORY_NAME_HEADING\",\"actor_id\":null,\"record_id\":5736080,\"originating_url\":\"https://github.com/topics/3d\",\"user_id\":null}}' data-hydro-click-hmac=\"f409ec71fa689bb04d504c411bd9676bb200cf6639b2678f72b9af816768dbbf\" data-view-component=\"true\" href=\"/FreeCAD/FreeCAD\">\n",
              "             FreeCAD\n",
              " </a> </h1>, <h1 class=\"f3 color-text-secondary text-normal lh-condensed\">\n",
              " <a data-ga-click=\"Explore, go to repository owner, location:explore feed\" data-hydro-click='{\"event_type\":\"explore.click\",\"payload\":{\"click_context\":\"REPOSITORY_CARD\",\"click_target\":\"OWNER\",\"click_visual_representation\":\"REPOSITORY_OWNER_HEADING\",\"actor_id\":null,\"record_id\":573910,\"originating_url\":\"https://github.com/topics/3d\",\"user_id\":null}}' data-hydro-click-hmac=\"f5b3a8fc92d3f30b4468ca6255d50ef1ef41af4a277e99a44368380d05695b49\" data-view-component=\"true\" href=\"/metafizzy\">\n",
              "             metafizzy\n",
              " </a>          /\n",
              "           <a class=\"text-bold\" data-ga-click=\"Explore, go to repository, location:explore feed\" data-hydro-click='{\"event_type\":\"explore.click\",\"payload\":{\"click_context\":\"REPOSITORY_CARD\",\"click_target\":\"REPOSITORY\",\"click_visual_representation\":\"REPOSITORY_NAME_HEADING\",\"actor_id\":null,\"record_id\":174164624,\"originating_url\":\"https://github.com/topics/3d\",\"user_id\":null}}' data-hydro-click-hmac=\"6ef1f8dc07d99135ad796148e15edb48576348e33a218fa22dbb0a3954450801\" data-view-component=\"true\" href=\"/metafizzy/zdog\">\n",
              "             zdog\n",
              " </a> </h1>, <h1 class=\"f3 color-text-secondary text-normal lh-condensed\">\n",
              " <a data-ga-click=\"Explore, go to repository owner, location:explore feed\" data-hydro-click='{\"event_type\":\"explore.click\",\"payload\":{\"click_context\":\"REPOSITORY_CARD\",\"click_target\":\"OWNER\",\"click_visual_representation\":\"REPOSITORY_OWNER_HEADING\",\"actor_id\":null,\"record_id\":54716382,\"originating_url\":\"https://github.com/topics/3d\",\"user_id\":null}}' data-hydro-click-hmac=\"61f9f002cf1a4e74bf16f253674df30f6d7e65ee4900647326a173ccb8f31afe\" data-view-component=\"true\" href=\"/CesiumGS\">\n",
              "             CesiumGS\n",
              " </a>          /\n",
              "           <a class=\"text-bold\" data-ga-click=\"Explore, go to repository, location:explore feed\" data-hydro-click='{\"event_type\":\"explore.click\",\"payload\":{\"click_context\":\"REPOSITORY_CARD\",\"click_target\":\"REPOSITORY\",\"click_visual_representation\":\"REPOSITORY_NAME_HEADING\",\"actor_id\":null,\"record_id\":3606738,\"originating_url\":\"https://github.com/topics/3d\",\"user_id\":null}}' data-hydro-click-hmac=\"415ccd1ea052027e4073ace6132657d6ac12d43cea98b66453bbcdbed555faf5\" data-view-component=\"true\" href=\"/CesiumGS/cesium\">\n",
              "             cesium\n",
              " </a> </h1>, <h1 class=\"f3 color-text-secondary text-normal lh-condensed\">\n",
              " <a data-ga-click=\"Explore, go to repository owner, location:explore feed\" data-hydro-click='{\"event_type\":\"explore.click\",\"payload\":{\"click_context\":\"REPOSITORY_CARD\",\"click_target\":\"OWNER\",\"click_visual_representation\":\"REPOSITORY_OWNER_HEADING\",\"actor_id\":null,\"record_id\":6295625,\"originating_url\":\"https://github.com/topics/3d\",\"user_id\":null}}' data-hydro-click-hmac=\"7220683d54951178816028424a94bb30c0e0deb6ed51a32331c4c5a4f1344a62\" data-view-component=\"true\" href=\"/a1studmuffin\">\n",
              "             a1studmuffin\n",
              " </a>          /\n",
              "           <a class=\"text-bold\" data-ga-click=\"Explore, go to repository, location:explore feed\" data-hydro-click='{\"event_type\":\"explore.click\",\"payload\":{\"click_context\":\"REPOSITORY_CARD\",\"click_target\":\"REPOSITORY\",\"click_visual_representation\":\"REPOSITORY_NAME_HEADING\",\"actor_id\":null,\"record_id\":61088333,\"originating_url\":\"https://github.com/topics/3d\",\"user_id\":null}}' data-hydro-click-hmac=\"02354cc3f2ad7480715b6a482b5f7f035bd5abedba1fc0faead1894e17a61820\" data-view-component=\"true\" href=\"/a1studmuffin/SpaceshipGenerator\">\n",
              "             SpaceshipGenerator\n",
              " </a> </h1>, <h1 class=\"f3 color-text-secondary text-normal lh-condensed\">\n",
              " <a data-ga-click=\"Explore, go to repository owner, location:explore feed\" data-hydro-click='{\"event_type\":\"explore.click\",\"payload\":{\"click_context\":\"REPOSITORY_CARD\",\"click_target\":\"OWNER\",\"click_visual_representation\":\"REPOSITORY_OWNER_HEADING\",\"actor_id\":null,\"record_id\":16217333,\"originating_url\":\"https://github.com/topics/3d\",\"user_id\":null}}' data-hydro-click-hmac=\"0077f42015645d900471e0cf0ce8a3d643d649d4fa3ff4d0b3fca48249c1b695\" data-view-component=\"true\" href=\"/timzhang642\">\n",
              "             timzhang642\n",
              " </a>          /\n",
              "           <a class=\"text-bold\" data-ga-click=\"Explore, go to repository, location:explore feed\" data-hydro-click='{\"event_type\":\"explore.click\",\"payload\":{\"click_context\":\"REPOSITORY_CARD\",\"click_target\":\"REPOSITORY\",\"click_visual_representation\":\"REPOSITORY_NAME_HEADING\",\"actor_id\":null,\"record_id\":100120455,\"originating_url\":\"https://github.com/topics/3d\",\"user_id\":null}}' data-hydro-click-hmac=\"5ac29541d56b0a4f137b3adb34578840be52d1f547359a52b3f4ac007241de29\" data-view-component=\"true\" href=\"/timzhang642/3D-Machine-Learning\">\n",
              "             3D-Machine-Learning\n",
              " </a> </h1>, <h1 class=\"f3 color-text-secondary text-normal lh-condensed\">\n",
              " <a data-ga-click=\"Explore, go to repository owner, location:explore feed\" data-hydro-click='{\"event_type\":\"explore.click\",\"payload\":{\"click_context\":\"REPOSITORY_CARD\",\"click_target\":\"OWNER\",\"click_visual_representation\":\"REPOSITORY_OWNER_HEADING\",\"actor_id\":null,\"record_id\":23507030,\"originating_url\":\"https://github.com/topics/3d\",\"user_id\":null}}' data-hydro-click-hmac=\"2690981e9e9eeb03ddf9f0f49f0c3167881395f2850f1e2b8012d64f5db4088d\" data-view-component=\"true\" href=\"/intel-isl\">\n",
              "             intel-isl\n",
              " </a>          /\n",
              "           <a class=\"text-bold\" data-ga-click=\"Explore, go to repository, location:explore feed\" data-hydro-click='{\"event_type\":\"explore.click\",\"payload\":{\"click_context\":\"REPOSITORY_CARD\",\"click_target\":\"REPOSITORY\",\"click_visual_representation\":\"REPOSITORY_NAME_HEADING\",\"actor_id\":null,\"record_id\":75413130,\"originating_url\":\"https://github.com/topics/3d\",\"user_id\":null}}' data-hydro-click-hmac=\"3376b3eb05aaf87cba8d79a982e9ed5940507b1d0c89a16fb29986e1bdd5e302\" data-view-component=\"true\" href=\"/intel-isl/Open3D\">\n",
              "             Open3D\n",
              " </a> </h1>, <h1 class=\"f3 color-text-secondary text-normal lh-condensed\">\n",
              " <a data-ga-click=\"Explore, go to repository owner, location:explore feed\" data-hydro-click='{\"event_type\":\"explore.click\",\"payload\":{\"click_context\":\"REPOSITORY_CARD\",\"click_target\":\"OWNER\",\"click_visual_representation\":\"REPOSITORY_OWNER_HEADING\",\"actor_id\":null,\"record_id\":29911379,\"originating_url\":\"https://github.com/topics/3d\",\"user_id\":null}}' data-hydro-click-hmac=\"f73e50528259296676fd44b4cdcf910acd91b7ec5540ff270bb045e86b1c38d8\" data-view-component=\"true\" href=\"/spritejs\">\n",
              "             spritejs\n",
              " </a>          /\n",
              "           <a class=\"text-bold\" data-ga-click=\"Explore, go to repository, location:explore feed\" data-hydro-click='{\"event_type\":\"explore.click\",\"payload\":{\"click_context\":\"REPOSITORY_CARD\",\"click_target\":\"REPOSITORY\",\"click_visual_representation\":\"REPOSITORY_NAME_HEADING\",\"actor_id\":null,\"record_id\":96287699,\"originating_url\":\"https://github.com/topics/3d\",\"user_id\":null}}' data-hydro-click-hmac=\"a56e16d0a40310d1b96aaa49cca27395eceed1a101cf1a0bacaf5355cd7d0b54\" data-view-component=\"true\" href=\"/spritejs/spritejs\">\n",
              "             spritejs\n",
              " </a> </h1>, <h1 class=\"f3 color-text-secondary text-normal lh-condensed\">\n",
              " <a data-ga-click=\"Explore, go to repository owner, location:explore feed\" data-hydro-click='{\"event_type\":\"explore.click\",\"payload\":{\"click_context\":\"REPOSITORY_CARD\",\"click_target\":\"OWNER\",\"click_visual_representation\":\"REPOSITORY_OWNER_HEADING\",\"actor_id\":null,\"record_id\":43156133,\"originating_url\":\"https://github.com/topics/3d\",\"user_id\":null}}' data-hydro-click-hmac=\"3fd24e8e9c72aec7e179a9e25c170d3622bf447cd08b47aeaeed5c12de9f4198\" data-view-component=\"true\" href=\"/tensorspace-team\">\n",
              "             tensorspace-team\n",
              " </a>          /\n",
              "           <a class=\"text-bold\" data-ga-click=\"Explore, go to repository, location:explore feed\" data-hydro-click='{\"event_type\":\"explore.click\",\"payload\":{\"click_context\":\"REPOSITORY_CARD\",\"click_target\":\"REPOSITORY\",\"click_visual_representation\":\"REPOSITORY_NAME_HEADING\",\"actor_id\":null,\"record_id\":141901715,\"originating_url\":\"https://github.com/topics/3d\",\"user_id\":null}}' data-hydro-click-hmac=\"a57e8303ce8aceff7bbbf2ca5398ea4286a0e0a67af0a921472f4b4b26fe0ce1\" data-view-component=\"true\" href=\"/tensorspace-team/tensorspace\">\n",
              "             tensorspace\n",
              " </a> </h1>, <h1 class=\"f3 color-text-secondary text-normal lh-condensed\">\n",
              " <a data-ga-click=\"Explore, go to repository owner, location:explore feed\" data-hydro-click='{\"event_type\":\"explore.click\",\"payload\":{\"click_context\":\"REPOSITORY_CARD\",\"click_target\":\"OWNER\",\"click_visual_representation\":\"REPOSITORY_OWNER_HEADING\",\"actor_id\":null,\"record_id\":393515,\"originating_url\":\"https://github.com/topics/3d\",\"user_id\":null}}' data-hydro-click-hmac=\"c3bf27c338bea41a20ec22010a10d077bdc14c5edf8a9d3c14f464c1a18d4c24\" data-view-component=\"true\" href=\"/jagenjo\">\n",
              "             jagenjo\n",
              " </a>          /\n",
              "           <a class=\"text-bold\" data-ga-click=\"Explore, go to repository, location:explore feed\" data-hydro-click='{\"event_type\":\"explore.click\",\"payload\":{\"click_context\":\"REPOSITORY_CARD\",\"click_target\":\"REPOSITORY\",\"click_visual_representation\":\"REPOSITORY_NAME_HEADING\",\"actor_id\":null,\"record_id\":40006776,\"originating_url\":\"https://github.com/topics/3d\",\"user_id\":null}}' data-hydro-click-hmac=\"f35c57e030fa0d745719a2f7ebb0d63d8025f9adf5beb0f674db3a4fc159026a\" data-view-component=\"true\" href=\"/jagenjo/webglstudio.js\">\n",
              "             webglstudio.js\n",
              " </a> </h1>, <h1 class=\"f3 color-text-secondary text-normal lh-condensed\">\n",
              " <a data-ga-click=\"Explore, go to repository owner, location:explore feed\" data-hydro-click='{\"event_type\":\"explore.click\",\"payload\":{\"click_context\":\"REPOSITORY_CARD\",\"click_target\":\"OWNER\",\"click_visual_representation\":\"REPOSITORY_OWNER_HEADING\",\"actor_id\":null,\"record_id\":17222,\"originating_url\":\"https://github.com/topics/3d\",\"user_id\":null}}' data-hydro-click-hmac=\"cd51d852ecff8dcc5a65c6e465fd50fcf349127ea8d5d92933f528ad51971447\" data-view-component=\"true\" href=\"/AaronJackson\">\n",
              "             AaronJackson\n",
              " </a>          /\n",
              "           <a class=\"text-bold\" data-ga-click=\"Explore, go to repository, location:explore feed\" data-hydro-click='{\"event_type\":\"explore.click\",\"payload\":{\"click_context\":\"REPOSITORY_CARD\",\"click_target\":\"REPOSITORY\",\"click_visual_representation\":\"REPOSITORY_NAME_HEADING\",\"actor_id\":null,\"record_id\":94889340,\"originating_url\":\"https://github.com/topics/3d\",\"user_id\":null}}' data-hydro-click-hmac=\"acadee55a58e7f2ffe89dd69355b608754dc3d19c6117b213d4d69d66166319a\" data-view-component=\"true\" href=\"/AaronJackson/vrn\">\n",
              "             vrn\n",
              " </a> </h1>, <h1 class=\"f3 color-text-secondary text-normal lh-condensed\">\n",
              " <a data-ga-click=\"Explore, go to repository owner, location:explore feed\" data-hydro-click='{\"event_type\":\"explore.click\",\"payload\":{\"click_context\":\"REPOSITORY_CARD\",\"click_target\":\"OWNER\",\"click_visual_representation\":\"REPOSITORY_OWNER_HEADING\",\"actor_id\":null,\"record_id\":17000803,\"originating_url\":\"https://github.com/topics/3d\",\"user_id\":null}}' data-hydro-click-hmac=\"22b23cef9044043c11b17037d9ae62d342ff83aec1fe01fb3deb33b088b8956c\" data-view-component=\"true\" href=\"/YadiraF\">\n",
              "             YadiraF\n",
              " </a>          /\n",
              "           <a class=\"text-bold\" data-ga-click=\"Explore, go to repository, location:explore feed\" data-hydro-click='{\"event_type\":\"explore.click\",\"payload\":{\"click_context\":\"REPOSITORY_CARD\",\"click_target\":\"REPOSITORY\",\"click_visual_representation\":\"REPOSITORY_NAME_HEADING\",\"actor_id\":null,\"record_id\":126008734,\"originating_url\":\"https://github.com/topics/3d\",\"user_id\":null}}' data-hydro-click-hmac=\"4d633272ee3575f2e51f2a3ab9e56ebf7be354ec3dadc0d1bf246d2f2c811049\" data-view-component=\"true\" href=\"/YadiraF/PRNet\">\n",
              "             PRNet\n",
              " </a> </h1>, <h1 class=\"f3 color-text-secondary text-normal lh-condensed\">\n",
              " <a data-ga-click=\"Explore, go to repository owner, location:explore feed\" data-hydro-click='{\"event_type\":\"explore.click\",\"payload\":{\"click_context\":\"REPOSITORY_CARD\",\"click_target\":\"OWNER\",\"click_visual_representation\":\"REPOSITORY_OWNER_HEADING\",\"actor_id\":null,\"record_id\":466370,\"originating_url\":\"https://github.com/topics/3d\",\"user_id\":null}}' data-hydro-click-hmac=\"6e27233282417634bd67b72ffd9eb417d80e8683b1df666e55551cc9b8be4532\" data-view-component=\"true\" href=\"/openscad\">\n",
              "             openscad\n",
              " </a>          /\n",
              "           <a class=\"text-bold\" data-ga-click=\"Explore, go to repository, location:explore feed\" data-hydro-click='{\"event_type\":\"explore.click\",\"payload\":{\"click_context\":\"REPOSITORY_CARD\",\"click_target\":\"REPOSITORY\",\"click_visual_representation\":\"REPOSITORY_NAME_HEADING\",\"actor_id\":null,\"record_id\":1049088,\"originating_url\":\"https://github.com/topics/3d\",\"user_id\":null}}' data-hydro-click-hmac=\"ce459e10b38eff918a7732ee23229e2547b096565812cfa6a9fb3a60b47ed1bd\" data-view-component=\"true\" href=\"/openscad/openscad\">\n",
              "             openscad\n",
              " </a> </h1>, <h1 class=\"f3 color-text-secondary text-normal lh-condensed\">\n",
              " <a data-ga-click=\"Explore, go to repository owner, location:explore feed\" data-hydro-click='{\"event_type\":\"explore.click\",\"payload\":{\"click_context\":\"REPOSITORY_CARD\",\"click_target\":\"OWNER\",\"click_visual_representation\":\"REPOSITORY_OWNER_HEADING\",\"actor_id\":null,\"record_id\":5639024,\"originating_url\":\"https://github.com/topics/3d\",\"user_id\":null}}' data-hydro-click-hmac=\"2b46ab94ba783e748930d230cdb4e412a8f4935af6bb89136ae4f1c32f1b5ccb\" data-view-component=\"true\" href=\"/domlysz\">\n",
              "             domlysz\n",
              " </a>          /\n",
              "           <a class=\"text-bold\" data-ga-click=\"Explore, go to repository, location:explore feed\" data-hydro-click='{\"event_type\":\"explore.click\",\"payload\":{\"click_context\":\"REPOSITORY_CARD\",\"click_target\":\"REPOSITORY\",\"click_visual_representation\":\"REPOSITORY_NAME_HEADING\",\"actor_id\":null,\"record_id\":19577136,\"originating_url\":\"https://github.com/topics/3d\",\"user_id\":null}}' data-hydro-click-hmac=\"7c97f5ccba5ac252cf18348fde7349654b1bcc5a2849dff71c6c86aa5659f495\" data-view-component=\"true\" href=\"/domlysz/BlenderGIS\">\n",
              "             BlenderGIS\n",
              " </a> </h1>, <h1 class=\"f3 color-text-secondary text-normal lh-condensed\">\n",
              " <a data-ga-click=\"Explore, go to repository owner, location:explore feed\" data-hydro-click='{\"event_type\":\"explore.click\",\"payload\":{\"click_context\":\"REPOSITORY_CARD\",\"click_target\":\"OWNER\",\"click_visual_representation\":\"REPOSITORY_OWNER_HEADING\",\"actor_id\":null,\"record_id\":1029298,\"originating_url\":\"https://github.com/topics/3d\",\"user_id\":null}}' data-hydro-click-hmac=\"35cf14368807d0a0abce48667cf2c0778c4e44ceeb4edde9a860e17a9efe6443\" data-view-component=\"true\" href=\"/ssloy\">\n",
              "             ssloy\n",
              " </a>          /\n",
              "           <a class=\"text-bold\" data-ga-click=\"Explore, go to repository, location:explore feed\" data-hydro-click='{\"event_type\":\"explore.click\",\"payload\":{\"click_context\":\"REPOSITORY_CARD\",\"click_target\":\"REPOSITORY\",\"click_visual_representation\":\"REPOSITORY_NAME_HEADING\",\"actor_id\":null,\"record_id\":166652275,\"originating_url\":\"https://github.com/topics/3d\",\"user_id\":null}}' data-hydro-click-hmac=\"bfa43571b17361feff557e534cb483b36d6ad67cae545fff34a7847151c7d761\" data-view-component=\"true\" href=\"/ssloy/tinyraytracer\">\n",
              "             tinyraytracer\n",
              " </a> </h1>, <h1 class=\"f3 color-text-secondary text-normal lh-condensed\">\n",
              " <a data-ga-click=\"Explore, go to repository owner, location:explore feed\" data-hydro-click='{\"event_type\":\"explore.click\",\"payload\":{\"click_context\":\"REPOSITORY_CARD\",\"click_target\":\"OWNER\",\"click_visual_representation\":\"REPOSITORY_OWNER_HEADING\",\"actor_id\":null,\"record_id\":344828,\"originating_url\":\"https://github.com/topics/3d\",\"user_id\":null}}' data-hydro-click-hmac=\"87bc05ba152704b235df2f6bbe53be6ac44583fb91658a8c826a42d33313939f\" data-view-component=\"true\" href=\"/mosra\">\n",
              "             mosra\n",
              " </a>          /\n",
              "           <a class=\"text-bold\" data-ga-click=\"Explore, go to repository, location:explore feed\" data-hydro-click='{\"event_type\":\"explore.click\",\"payload\":{\"click_context\":\"REPOSITORY_CARD\",\"click_target\":\"REPOSITORY\",\"click_visual_representation\":\"REPOSITORY_NAME_HEADING\",\"actor_id\":null,\"record_id\":1182756,\"originating_url\":\"https://github.com/topics/3d\",\"user_id\":null}}' data-hydro-click-hmac=\"9d963630e2bd1250640a667f76d75ddfca1363bc60d2d9d6f1907334bf4736ea\" data-view-component=\"true\" href=\"/mosra/magnum\">\n",
              "             magnum\n",
              " </a> </h1>, <h1 class=\"f3 color-text-secondary text-normal lh-condensed\">\n",
              " <a data-ga-click=\"Explore, go to repository owner, location:explore feed\" data-hydro-click='{\"event_type\":\"explore.click\",\"payload\":{\"click_context\":\"REPOSITORY_CARD\",\"click_target\":\"OWNER\",\"click_visual_representation\":\"REPOSITORY_OWNER_HEADING\",\"actor_id\":null,\"record_id\":51905096,\"originating_url\":\"https://github.com/topics/3d\",\"user_id\":null}}' data-hydro-click-hmac=\"56978e86a4184c50f2521db5df36e0845a30ada392ad85724b510c835f099ced\" data-view-component=\"true\" href=\"/gfxfundamentals\">\n",
              "             gfxfundamentals\n",
              " </a>          /\n",
              "           <a class=\"text-bold\" data-ga-click=\"Explore, go to repository, location:explore feed\" data-hydro-click='{\"event_type\":\"explore.click\",\"payload\":{\"click_context\":\"REPOSITORY_CARD\",\"click_target\":\"REPOSITORY\",\"click_visual_representation\":\"REPOSITORY_NAME_HEADING\",\"actor_id\":null,\"record_id\":3253898,\"originating_url\":\"https://github.com/topics/3d\",\"user_id\":null}}' data-hydro-click-hmac=\"096f5cbc072b7545745d7635e8ae80f95f78abc6d316ab1637871b592c32506e\" data-view-component=\"true\" href=\"/gfxfundamentals/webgl-fundamentals\">\n",
              "             webgl-fundamentals\n",
              " </a> </h1>, <h1 class=\"f3 color-text-secondary text-normal lh-condensed\">\n",
              " <a data-ga-click=\"Explore, go to repository owner, location:explore feed\" data-hydro-click='{\"event_type\":\"explore.click\",\"payload\":{\"click_context\":\"REPOSITORY_CARD\",\"click_target\":\"OWNER\",\"click_visual_representation\":\"REPOSITORY_OWNER_HEADING\",\"actor_id\":null,\"record_id\":7555251,\"originating_url\":\"https://github.com/topics/3d\",\"user_id\":null}}' data-hydro-click-hmac=\"bd2820bc53dda7c4dd7a3fb7abf7a52d9b0839782dd6706a04878fc086b6dd45\" data-view-component=\"true\" href=\"/cleardusk\">\n",
              "             cleardusk\n",
              " </a>          /\n",
              "           <a class=\"text-bold\" data-ga-click=\"Explore, go to repository, location:explore feed\" data-hydro-click='{\"event_type\":\"explore.click\",\"payload\":{\"click_context\":\"REPOSITORY_CARD\",\"click_target\":\"REPOSITORY\",\"click_visual_representation\":\"REPOSITORY_NAME_HEADING\",\"actor_id\":null,\"record_id\":139158036,\"originating_url\":\"https://github.com/topics/3d\",\"user_id\":null}}' data-hydro-click-hmac=\"04c3ad0aade50592b5e0f519cdd9e150014dd98fe6c34a3bfd48bb380c600bf8\" data-view-component=\"true\" href=\"/cleardusk/3DDFA\">\n",
              "             3DDFA\n",
              " </a> </h1>, <h1 class=\"f3 color-text-secondary text-normal lh-condensed\">\n",
              " <a data-ga-click=\"Explore, go to repository owner, location:explore feed\" data-hydro-click='{\"event_type\":\"explore.click\",\"payload\":{\"click_context\":\"REPOSITORY_CARD\",\"click_target\":\"OWNER\",\"click_visual_representation\":\"REPOSITORY_OWNER_HEADING\",\"actor_id\":null,\"record_id\":1342004,\"originating_url\":\"https://github.com/topics/3d\",\"user_id\":null}}' data-hydro-click-hmac=\"fefb66c769603a36c83f99d8fcb711851a0c516cf07be3a8a80997d82d0f4ef4\" data-view-component=\"true\" href=\"/google\">\n",
              "             google\n",
              " </a>          /\n",
              "           <a class=\"text-bold\" data-ga-click=\"Explore, go to repository, location:explore feed\" data-hydro-click='{\"event_type\":\"explore.click\",\"payload\":{\"click_context\":\"REPOSITORY_CARD\",\"click_target\":\"REPOSITORY\",\"click_visual_representation\":\"REPOSITORY_NAME_HEADING\",\"actor_id\":null,\"record_id\":153651476,\"originating_url\":\"https://github.com/topics/3d\",\"user_id\":null}}' data-hydro-click-hmac=\"0e361312deb28484dffa632561cf40a92e83db0f1472a6f00d4d1f335c18ccbd\" data-view-component=\"true\" href=\"/google/model-viewer\">\n",
              "             model-viewer\n",
              " </a> </h1>, <h1 class=\"f3 color-text-secondary text-normal lh-condensed\">\n",
              " <a data-ga-click=\"Explore, go to repository owner, location:explore feed\" data-hydro-click='{\"event_type\":\"explore.click\",\"payload\":{\"click_context\":\"REPOSITORY_CARD\",\"click_target\":\"OWNER\",\"click_visual_representation\":\"REPOSITORY_OWNER_HEADING\",\"actor_id\":null,\"record_id\":6104,\"originating_url\":\"https://github.com/topics/3d\",\"user_id\":null}}' data-hydro-click-hmac=\"ed4aecd645286f3bd578888252b7aa8e477e50d90863291286a2f15806e64d21\" data-view-component=\"true\" href=\"/jasonlong\">\n",
              "             jasonlong\n",
              " </a>          /\n",
              "           <a class=\"text-bold\" data-ga-click=\"Explore, go to repository, location:explore feed\" data-hydro-click='{\"event_type\":\"explore.click\",\"payload\":{\"click_context\":\"REPOSITORY_CARD\",\"click_target\":\"REPOSITORY\",\"click_visual_representation\":\"REPOSITORY_NAME_HEADING\",\"actor_id\":null,\"record_id\":18154829,\"originating_url\":\"https://github.com/topics/3d\",\"user_id\":null}}' data-hydro-click-hmac=\"1f5152270cdf8299eaafbfd2ec91f11ae7ae9c93f66b25a93ea90a123e360c2a\" data-view-component=\"true\" href=\"/jasonlong/isometric-contributions\">\n",
              "             isometric-contributions\n",
              " </a> </h1>, <h1 class=\"f3 color-text-secondary text-normal lh-condensed\">\n",
              " <a data-ga-click=\"Explore, go to repository owner, location:explore feed\" data-hydro-click='{\"event_type\":\"explore.click\",\"payload\":{\"click_context\":\"REPOSITORY_CARD\",\"click_target\":\"OWNER\",\"click_visual_representation\":\"REPOSITORY_OWNER_HEADING\",\"actor_id\":null,\"record_id\":52924476,\"originating_url\":\"https://github.com/topics/3d\",\"user_id\":null}}' data-hydro-click-hmac=\"3ef621e0683e557bb6ec46fbf192cfbfdd0fa2e15d1ed98932b3546e43be6655\" data-view-component=\"true\" href=\"/blender\">\n",
              "             blender\n",
              " </a>          /\n",
              "           <a class=\"text-bold\" data-ga-click=\"Explore, go to repository, location:explore feed\" data-hydro-click='{\"event_type\":\"explore.click\",\"payload\":{\"click_context\":\"REPOSITORY_CARD\",\"click_target\":\"REPOSITORY\",\"click_visual_representation\":\"REPOSITORY_NAME_HEADING\",\"actor_id\":null,\"record_id\":213916896,\"originating_url\":\"https://github.com/topics/3d\",\"user_id\":null}}' data-hydro-click-hmac=\"ac5fee340bdeebc5fd06dbf09aca394adad6d0a397aa20f51ddee7ea76ed61f0\" data-view-component=\"true\" href=\"/blender/blender\">\n",
              "             blender\n",
              " </a> </h1>, <h1 class=\"f3 color-text-secondary text-normal lh-condensed\">\n",
              " <a data-ga-click=\"Explore, go to repository owner, location:explore feed\" data-hydro-click='{\"event_type\":\"explore.click\",\"payload\":{\"click_context\":\"REPOSITORY_CARD\",\"click_target\":\"OWNER\",\"click_visual_representation\":\"REPOSITORY_OWNER_HEADING\",\"actor_id\":null,\"record_id\":19199542,\"originating_url\":\"https://github.com/topics/3d\",\"user_id\":null}}' data-hydro-click-hmac=\"27f659cd9a67f0935771e9caa25d5d94f3e3a614c0c8420c3bb40531b40bc803\" data-view-component=\"true\" href=\"/antvis\">\n",
              "             antvis\n",
              " </a>          /\n",
              "           <a class=\"text-bold\" data-ga-click=\"Explore, go to repository, location:explore feed\" data-hydro-click='{\"event_type\":\"explore.click\",\"payload\":{\"click_context\":\"REPOSITORY_CARD\",\"click_target\":\"REPOSITORY\",\"click_visual_representation\":\"REPOSITORY_NAME_HEADING\",\"actor_id\":null,\"record_id\":158575679,\"originating_url\":\"https://github.com/topics/3d\",\"user_id\":null}}' data-hydro-click-hmac=\"fc87f59b4c46ca5e7ff07606e52166093e8614a9fb422a43818fe49f3edf32eb\" data-view-component=\"true\" href=\"/antvis/L7\">\n",
              "             L7\n",
              " </a> </h1>, <h1 class=\"f3 color-text-secondary text-normal lh-condensed\">\n",
              " <a data-ga-click=\"Explore, go to repository owner, location:explore feed\" data-hydro-click='{\"event_type\":\"explore.click\",\"payload\":{\"click_context\":\"REPOSITORY_CARD\",\"click_target\":\"OWNER\",\"click_visual_representation\":\"REPOSITORY_OWNER_HEADING\",\"actor_id\":null,\"record_id\":841551,\"originating_url\":\"https://github.com/topics/3d\",\"user_id\":null}}' data-hydro-click-hmac=\"257bc846547fc4aa4039f97ac8c8143593801f2fd9d30f9934aa5da45d594b32\" data-view-component=\"true\" href=\"/pissang\">\n",
              "             pissang\n",
              " </a>          /\n",
              "           <a class=\"text-bold\" data-ga-click=\"Explore, go to repository, location:explore feed\" data-hydro-click='{\"event_type\":\"explore.click\",\"payload\":{\"click_context\":\"REPOSITORY_CARD\",\"click_target\":\"REPOSITORY\",\"click_visual_representation\":\"REPOSITORY_NAME_HEADING\",\"actor_id\":null,\"record_id\":10186000,\"originating_url\":\"https://github.com/topics/3d\",\"user_id\":null}}' data-hydro-click-hmac=\"53ab890361c8586cc81cc0869e292686d2711fc42bd428120c1fc6710ea24b34\" data-view-component=\"true\" href=\"/pissang/claygl\">\n",
              "             claygl\n",
              " </a> </h1>, <h1 class=\"f3 color-text-secondary text-normal lh-condensed\">\n",
              " <a data-ga-click=\"Explore, go to repository owner, location:explore feed\" data-hydro-click='{\"event_type\":\"explore.click\",\"payload\":{\"click_context\":\"REPOSITORY_CARD\",\"click_target\":\"OWNER\",\"click_visual_representation\":\"REPOSITORY_OWNER_HEADING\",\"actor_id\":null,\"record_id\":13378289,\"originating_url\":\"https://github.com/topics/3d\",\"user_id\":null}}' data-hydro-click-hmac=\"b03e13b74ba89ce591e15a147026f2949f99b9aa3aa224410f2e8c102238a36e\" data-view-component=\"true\" href=\"/cnr-isti-vclab\">\n",
              "             cnr-isti-vclab\n",
              " </a>          /\n",
              "           <a class=\"text-bold\" data-ga-click=\"Explore, go to repository, location:explore feed\" data-hydro-click='{\"event_type\":\"explore.click\",\"payload\":{\"click_context\":\"REPOSITORY_CARD\",\"click_target\":\"REPOSITORY\",\"click_visual_representation\":\"REPOSITORY_NAME_HEADING\",\"actor_id\":null,\"record_id\":73027304,\"originating_url\":\"https://github.com/topics/3d\",\"user_id\":null}}' data-hydro-click-hmac=\"320bb87cd817c0d9e2c5e7348ea510c86f4f598db413ac2e151404ee7b47cd90\" data-view-component=\"true\" href=\"/cnr-isti-vclab/meshlab\">\n",
              "             meshlab\n",
              " </a> </h1>]"
            ]
          },
          "metadata": {
            "tags": []
          },
          "execution_count": 55
        }
      ]
    },
    {
      "cell_type": "code",
      "metadata": {
        "id": "HvySC-VJ7ron"
      },
      "source": [
        ""
      ],
      "execution_count": null,
      "outputs": []
    }
  ]
}