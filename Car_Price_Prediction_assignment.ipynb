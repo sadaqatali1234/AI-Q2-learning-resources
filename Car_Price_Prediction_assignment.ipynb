{
  "nbformat": 4,
  "nbformat_minor": 0,
  "metadata": {
    "kernelspec": {
      "display_name": "Python 3",
      "language": "python",
      "name": "python3"
    },
    "language_info": {
      "codemirror_mode": {
        "name": "ipython",
        "version": 3
      },
      "file_extension": ".py",
      "mimetype": "text/x-python",
      "name": "python",
      "nbconvert_exporter": "python",
      "pygments_lexer": "ipython3",
      "version": "3.7.6"
    },
    "colab": {
      "name": "Car Price Prediction assignment.ipynb",
      "provenance": [],
      "include_colab_link": true
    }
  },
  "cells": [
    {
      "cell_type": "markdown",
      "metadata": {
        "id": "view-in-github",
        "colab_type": "text"
      },
      "source": [
        "<a href=\"https://colab.research.google.com/github/sadaqatali1234/AI-Q2-learning-resources/blob/master/Car_Price_Prediction_assignment.ipynb\" target=\"_parent\"><img src=\"https://colab.research.google.com/assets/colab-badge.svg\" alt=\"Open In Colab\"/></a>"
      ]
    },
    {
      "cell_type": "markdown",
      "metadata": {
        "id": "sMNQWyN0xU9q"
      },
      "source": [
        "# Car Price Prediction::"
      ]
    },
    {
      "cell_type": "markdown",
      "metadata": {
        "id": "lRcwEJBbxU91"
      },
      "source": [
        "Download dataset from this link:\n",
        "\n",
        "https://www.kaggle.com/hellbuoy/car-price-prediction"
      ]
    },
    {
      "cell_type": "markdown",
      "metadata": {
        "id": "6iwzOdWVxU92"
      },
      "source": [
        "# Problem Statement::"
      ]
    },
    {
      "cell_type": "markdown",
      "metadata": {
        "id": "vdcrxOjJxU93"
      },
      "source": [
        "A Chinese automobile company Geely Auto aspires to enter the US market by setting up their manufacturing unit there and producing cars locally to give competition to their US and European counterparts.\n",
        "\n",
        "They have contracted an automobile consulting company to understand the factors on which the pricing of cars depends. Specifically, they want to understand the factors affecting the pricing of cars in the American market, since those may be very different from the Chinese market. The company wants to know:\n",
        "\n",
        "Which variables are significant in predicting the price of a car\n",
        "How well those variables describe the price of a car\n",
        "Based on various market surveys, the consulting firm has gathered a large data set of different types of cars across the America market.\n",
        "\n",
        "# task::\n",
        "We are required to model the price of cars with the available independent variables. It will be used by the management to understand how exactly the prices vary with the independent variables. They can accordingly manipulate the design of the cars, the business strategy etc. to meet certain price levels. Further, the model will be a good way for management to understand the pricing dynamics of a new market."
      ]
    },
    {
      "cell_type": "markdown",
      "metadata": {
        "id": "A9udJmRIxU94"
      },
      "source": [
        "# WORKFLOW ::"
      ]
    },
    {
      "cell_type": "markdown",
      "metadata": {
        "id": "Mg0LFipjxU94"
      },
      "source": [
        "1.Load Data\n",
        "\n",
        "2.Check Missing Values ( If Exist ; Fill each record with mean of its feature )\n",
        "\n",
        "3.Split into 50% Training(Samples,Labels) , 30% Test(Samples,Labels) and 20% Validation Data(Samples,Labels).\n",
        "\n",
        "4.Model : input Layer (No. of features ), 3 hidden layers including 10,8,6 unit & Output Layer with activation function relu/tanh (check by experiment).\n",
        "\n",
        "5.Compilation Step (Note : Its a Regression problem , select loss , metrics according to it)\n",
        "6.Train the Model with Epochs (100) and validate it\n",
        "\n",
        "7.If the model gets overfit tune your model by changing the units , No. of layers , activation function , epochs , add dropout layer or add Regularizer according to the need .\n",
        "\n",
        "8.Evaluation Step\n",
        "\n",
        "9.Prediction"
      ]
    },
    {
      "cell_type": "code",
      "metadata": {
        "id": "6p7Jhz5_xU95"
      },
      "source": [
        "# importing all libarires \n",
        "import numpy as np\n",
        "import pandas as pd\n",
        "import matplotlib.pyplot as plt\n",
        "import seaborn as sns\n"
      ],
      "execution_count": 1,
      "outputs": []
    },
    {
      "cell_type": "code",
      "metadata": {
        "id": "Xbu5dVklxU96",
        "colab": {
          "base_uri": "https://localhost:8080/"
        },
        "outputId": "adc1863a-b74c-4bc8-e131-ea33e05d727f"
      },
      "source": [
        "# google mount \n",
        "from google.colab import drive\n",
        "drive.mount(\"/content/drive\")"
      ],
      "execution_count": 2,
      "outputs": [
        {
          "output_type": "stream",
          "text": [
            "Drive already mounted at /content/drive; to attempt to forcibly remount, call drive.mount(\"/content/drive\", force_remount=True).\n"
          ],
          "name": "stdout"
        }
      ]
    },
    {
      "cell_type": "markdown",
      "metadata": {
        "id": "sUJ-WB3hzgLq"
      },
      "source": [
        "**load data**"
      ]
    },
    {
      "cell_type": "code",
      "metadata": {
        "id": "Ed3u6UgMxU97"
      },
      "source": [
        "df = pd.read_csv(\"/content/drive/MyDrive/CarPrice_Assignment.csv\")"
      ],
      "execution_count": 3,
      "outputs": []
    },
    {
      "cell_type": "markdown",
      "metadata": {
        "id": "r_UdiL8rMMAk"
      },
      "source": [
        "***Data cleaning and analyzing***"
      ]
    },
    {
      "cell_type": "code",
      "metadata": {
        "id": "QRE1LVNUxU97",
        "colab": {
          "base_uri": "https://localhost:8080/",
          "height": 275
        },
        "outputId": "a365e81b-cc80-4a92-de15-ae1e9ff0a570"
      },
      "source": [
        "# check data frame first 5 rows\n",
        "df.head()\n"
      ],
      "execution_count": 4,
      "outputs": [
        {
          "output_type": "execute_result",
          "data": {
            "text/html": [
              "<div>\n",
              "<style scoped>\n",
              "    .dataframe tbody tr th:only-of-type {\n",
              "        vertical-align: middle;\n",
              "    }\n",
              "\n",
              "    .dataframe tbody tr th {\n",
              "        vertical-align: top;\n",
              "    }\n",
              "\n",
              "    .dataframe thead th {\n",
              "        text-align: right;\n",
              "    }\n",
              "</style>\n",
              "<table border=\"1\" class=\"dataframe\">\n",
              "  <thead>\n",
              "    <tr style=\"text-align: right;\">\n",
              "      <th></th>\n",
              "      <th>car_ID</th>\n",
              "      <th>symboling</th>\n",
              "      <th>CarName</th>\n",
              "      <th>fueltype</th>\n",
              "      <th>aspiration</th>\n",
              "      <th>doornumber</th>\n",
              "      <th>carbody</th>\n",
              "      <th>drivewheel</th>\n",
              "      <th>enginelocation</th>\n",
              "      <th>wheelbase</th>\n",
              "      <th>carlength</th>\n",
              "      <th>carwidth</th>\n",
              "      <th>carheight</th>\n",
              "      <th>curbweight</th>\n",
              "      <th>enginetype</th>\n",
              "      <th>cylindernumber</th>\n",
              "      <th>enginesize</th>\n",
              "      <th>fuelsystem</th>\n",
              "      <th>boreratio</th>\n",
              "      <th>stroke</th>\n",
              "      <th>compressionratio</th>\n",
              "      <th>horsepower</th>\n",
              "      <th>peakrpm</th>\n",
              "      <th>citympg</th>\n",
              "      <th>highwaympg</th>\n",
              "      <th>price</th>\n",
              "    </tr>\n",
              "  </thead>\n",
              "  <tbody>\n",
              "    <tr>\n",
              "      <th>0</th>\n",
              "      <td>1</td>\n",
              "      <td>3</td>\n",
              "      <td>alfa-romero giulia</td>\n",
              "      <td>gas</td>\n",
              "      <td>std</td>\n",
              "      <td>two</td>\n",
              "      <td>convertible</td>\n",
              "      <td>rwd</td>\n",
              "      <td>front</td>\n",
              "      <td>88.6</td>\n",
              "      <td>168.8</td>\n",
              "      <td>64.1</td>\n",
              "      <td>48.8</td>\n",
              "      <td>2548</td>\n",
              "      <td>dohc</td>\n",
              "      <td>four</td>\n",
              "      <td>130</td>\n",
              "      <td>mpfi</td>\n",
              "      <td>3.47</td>\n",
              "      <td>2.68</td>\n",
              "      <td>9.0</td>\n",
              "      <td>111</td>\n",
              "      <td>5000</td>\n",
              "      <td>21</td>\n",
              "      <td>27</td>\n",
              "      <td>13495.0</td>\n",
              "    </tr>\n",
              "    <tr>\n",
              "      <th>1</th>\n",
              "      <td>2</td>\n",
              "      <td>3</td>\n",
              "      <td>alfa-romero stelvio</td>\n",
              "      <td>gas</td>\n",
              "      <td>std</td>\n",
              "      <td>two</td>\n",
              "      <td>convertible</td>\n",
              "      <td>rwd</td>\n",
              "      <td>front</td>\n",
              "      <td>88.6</td>\n",
              "      <td>168.8</td>\n",
              "      <td>64.1</td>\n",
              "      <td>48.8</td>\n",
              "      <td>2548</td>\n",
              "      <td>dohc</td>\n",
              "      <td>four</td>\n",
              "      <td>130</td>\n",
              "      <td>mpfi</td>\n",
              "      <td>3.47</td>\n",
              "      <td>2.68</td>\n",
              "      <td>9.0</td>\n",
              "      <td>111</td>\n",
              "      <td>5000</td>\n",
              "      <td>21</td>\n",
              "      <td>27</td>\n",
              "      <td>16500.0</td>\n",
              "    </tr>\n",
              "    <tr>\n",
              "      <th>2</th>\n",
              "      <td>3</td>\n",
              "      <td>1</td>\n",
              "      <td>alfa-romero Quadrifoglio</td>\n",
              "      <td>gas</td>\n",
              "      <td>std</td>\n",
              "      <td>two</td>\n",
              "      <td>hatchback</td>\n",
              "      <td>rwd</td>\n",
              "      <td>front</td>\n",
              "      <td>94.5</td>\n",
              "      <td>171.2</td>\n",
              "      <td>65.5</td>\n",
              "      <td>52.4</td>\n",
              "      <td>2823</td>\n",
              "      <td>ohcv</td>\n",
              "      <td>six</td>\n",
              "      <td>152</td>\n",
              "      <td>mpfi</td>\n",
              "      <td>2.68</td>\n",
              "      <td>3.47</td>\n",
              "      <td>9.0</td>\n",
              "      <td>154</td>\n",
              "      <td>5000</td>\n",
              "      <td>19</td>\n",
              "      <td>26</td>\n",
              "      <td>16500.0</td>\n",
              "    </tr>\n",
              "    <tr>\n",
              "      <th>3</th>\n",
              "      <td>4</td>\n",
              "      <td>2</td>\n",
              "      <td>audi 100 ls</td>\n",
              "      <td>gas</td>\n",
              "      <td>std</td>\n",
              "      <td>four</td>\n",
              "      <td>sedan</td>\n",
              "      <td>fwd</td>\n",
              "      <td>front</td>\n",
              "      <td>99.8</td>\n",
              "      <td>176.6</td>\n",
              "      <td>66.2</td>\n",
              "      <td>54.3</td>\n",
              "      <td>2337</td>\n",
              "      <td>ohc</td>\n",
              "      <td>four</td>\n",
              "      <td>109</td>\n",
              "      <td>mpfi</td>\n",
              "      <td>3.19</td>\n",
              "      <td>3.40</td>\n",
              "      <td>10.0</td>\n",
              "      <td>102</td>\n",
              "      <td>5500</td>\n",
              "      <td>24</td>\n",
              "      <td>30</td>\n",
              "      <td>13950.0</td>\n",
              "    </tr>\n",
              "    <tr>\n",
              "      <th>4</th>\n",
              "      <td>5</td>\n",
              "      <td>2</td>\n",
              "      <td>audi 100ls</td>\n",
              "      <td>gas</td>\n",
              "      <td>std</td>\n",
              "      <td>four</td>\n",
              "      <td>sedan</td>\n",
              "      <td>4wd</td>\n",
              "      <td>front</td>\n",
              "      <td>99.4</td>\n",
              "      <td>176.6</td>\n",
              "      <td>66.4</td>\n",
              "      <td>54.3</td>\n",
              "      <td>2824</td>\n",
              "      <td>ohc</td>\n",
              "      <td>five</td>\n",
              "      <td>136</td>\n",
              "      <td>mpfi</td>\n",
              "      <td>3.19</td>\n",
              "      <td>3.40</td>\n",
              "      <td>8.0</td>\n",
              "      <td>115</td>\n",
              "      <td>5500</td>\n",
              "      <td>18</td>\n",
              "      <td>22</td>\n",
              "      <td>17450.0</td>\n",
              "    </tr>\n",
              "  </tbody>\n",
              "</table>\n",
              "</div>"
            ],
            "text/plain": [
              "   car_ID  symboling                   CarName  ... citympg highwaympg    price\n",
              "0       1          3        alfa-romero giulia  ...      21         27  13495.0\n",
              "1       2          3       alfa-romero stelvio  ...      21         27  16500.0\n",
              "2       3          1  alfa-romero Quadrifoglio  ...      19         26  16500.0\n",
              "3       4          2               audi 100 ls  ...      24         30  13950.0\n",
              "4       5          2                audi 100ls  ...      18         22  17450.0\n",
              "\n",
              "[5 rows x 26 columns]"
            ]
          },
          "metadata": {
            "tags": []
          },
          "execution_count": 4
        }
      ]
    },
    {
      "cell_type": "code",
      "metadata": {
        "id": "4bWOt9VUxU98",
        "colab": {
          "base_uri": "https://localhost:8080/",
          "height": 326
        },
        "outputId": "7b21a08f-04bf-43ab-e8a5-0a12a7f08d22"
      },
      "source": [
        "# check last five rows\n",
        "df.tail()"
      ],
      "execution_count": 5,
      "outputs": [
        {
          "output_type": "execute_result",
          "data": {
            "text/html": [
              "<div>\n",
              "<style scoped>\n",
              "    .dataframe tbody tr th:only-of-type {\n",
              "        vertical-align: middle;\n",
              "    }\n",
              "\n",
              "    .dataframe tbody tr th {\n",
              "        vertical-align: top;\n",
              "    }\n",
              "\n",
              "    .dataframe thead th {\n",
              "        text-align: right;\n",
              "    }\n",
              "</style>\n",
              "<table border=\"1\" class=\"dataframe\">\n",
              "  <thead>\n",
              "    <tr style=\"text-align: right;\">\n",
              "      <th></th>\n",
              "      <th>car_ID</th>\n",
              "      <th>symboling</th>\n",
              "      <th>CarName</th>\n",
              "      <th>fueltype</th>\n",
              "      <th>aspiration</th>\n",
              "      <th>doornumber</th>\n",
              "      <th>carbody</th>\n",
              "      <th>drivewheel</th>\n",
              "      <th>enginelocation</th>\n",
              "      <th>wheelbase</th>\n",
              "      <th>carlength</th>\n",
              "      <th>carwidth</th>\n",
              "      <th>carheight</th>\n",
              "      <th>curbweight</th>\n",
              "      <th>enginetype</th>\n",
              "      <th>cylindernumber</th>\n",
              "      <th>enginesize</th>\n",
              "      <th>fuelsystem</th>\n",
              "      <th>boreratio</th>\n",
              "      <th>stroke</th>\n",
              "      <th>compressionratio</th>\n",
              "      <th>horsepower</th>\n",
              "      <th>peakrpm</th>\n",
              "      <th>citympg</th>\n",
              "      <th>highwaympg</th>\n",
              "      <th>price</th>\n",
              "    </tr>\n",
              "  </thead>\n",
              "  <tbody>\n",
              "    <tr>\n",
              "      <th>200</th>\n",
              "      <td>201</td>\n",
              "      <td>-1</td>\n",
              "      <td>volvo 145e (sw)</td>\n",
              "      <td>gas</td>\n",
              "      <td>std</td>\n",
              "      <td>four</td>\n",
              "      <td>sedan</td>\n",
              "      <td>rwd</td>\n",
              "      <td>front</td>\n",
              "      <td>109.1</td>\n",
              "      <td>188.8</td>\n",
              "      <td>68.9</td>\n",
              "      <td>55.5</td>\n",
              "      <td>2952</td>\n",
              "      <td>ohc</td>\n",
              "      <td>four</td>\n",
              "      <td>141</td>\n",
              "      <td>mpfi</td>\n",
              "      <td>3.78</td>\n",
              "      <td>3.15</td>\n",
              "      <td>9.5</td>\n",
              "      <td>114</td>\n",
              "      <td>5400</td>\n",
              "      <td>23</td>\n",
              "      <td>28</td>\n",
              "      <td>16845.0</td>\n",
              "    </tr>\n",
              "    <tr>\n",
              "      <th>201</th>\n",
              "      <td>202</td>\n",
              "      <td>-1</td>\n",
              "      <td>volvo 144ea</td>\n",
              "      <td>gas</td>\n",
              "      <td>turbo</td>\n",
              "      <td>four</td>\n",
              "      <td>sedan</td>\n",
              "      <td>rwd</td>\n",
              "      <td>front</td>\n",
              "      <td>109.1</td>\n",
              "      <td>188.8</td>\n",
              "      <td>68.8</td>\n",
              "      <td>55.5</td>\n",
              "      <td>3049</td>\n",
              "      <td>ohc</td>\n",
              "      <td>four</td>\n",
              "      <td>141</td>\n",
              "      <td>mpfi</td>\n",
              "      <td>3.78</td>\n",
              "      <td>3.15</td>\n",
              "      <td>8.7</td>\n",
              "      <td>160</td>\n",
              "      <td>5300</td>\n",
              "      <td>19</td>\n",
              "      <td>25</td>\n",
              "      <td>19045.0</td>\n",
              "    </tr>\n",
              "    <tr>\n",
              "      <th>202</th>\n",
              "      <td>203</td>\n",
              "      <td>-1</td>\n",
              "      <td>volvo 244dl</td>\n",
              "      <td>gas</td>\n",
              "      <td>std</td>\n",
              "      <td>four</td>\n",
              "      <td>sedan</td>\n",
              "      <td>rwd</td>\n",
              "      <td>front</td>\n",
              "      <td>109.1</td>\n",
              "      <td>188.8</td>\n",
              "      <td>68.9</td>\n",
              "      <td>55.5</td>\n",
              "      <td>3012</td>\n",
              "      <td>ohcv</td>\n",
              "      <td>six</td>\n",
              "      <td>173</td>\n",
              "      <td>mpfi</td>\n",
              "      <td>3.58</td>\n",
              "      <td>2.87</td>\n",
              "      <td>8.8</td>\n",
              "      <td>134</td>\n",
              "      <td>5500</td>\n",
              "      <td>18</td>\n",
              "      <td>23</td>\n",
              "      <td>21485.0</td>\n",
              "    </tr>\n",
              "    <tr>\n",
              "      <th>203</th>\n",
              "      <td>204</td>\n",
              "      <td>-1</td>\n",
              "      <td>volvo 246</td>\n",
              "      <td>diesel</td>\n",
              "      <td>turbo</td>\n",
              "      <td>four</td>\n",
              "      <td>sedan</td>\n",
              "      <td>rwd</td>\n",
              "      <td>front</td>\n",
              "      <td>109.1</td>\n",
              "      <td>188.8</td>\n",
              "      <td>68.9</td>\n",
              "      <td>55.5</td>\n",
              "      <td>3217</td>\n",
              "      <td>ohc</td>\n",
              "      <td>six</td>\n",
              "      <td>145</td>\n",
              "      <td>idi</td>\n",
              "      <td>3.01</td>\n",
              "      <td>3.40</td>\n",
              "      <td>23.0</td>\n",
              "      <td>106</td>\n",
              "      <td>4800</td>\n",
              "      <td>26</td>\n",
              "      <td>27</td>\n",
              "      <td>22470.0</td>\n",
              "    </tr>\n",
              "    <tr>\n",
              "      <th>204</th>\n",
              "      <td>205</td>\n",
              "      <td>-1</td>\n",
              "      <td>volvo 264gl</td>\n",
              "      <td>gas</td>\n",
              "      <td>turbo</td>\n",
              "      <td>four</td>\n",
              "      <td>sedan</td>\n",
              "      <td>rwd</td>\n",
              "      <td>front</td>\n",
              "      <td>109.1</td>\n",
              "      <td>188.8</td>\n",
              "      <td>68.9</td>\n",
              "      <td>55.5</td>\n",
              "      <td>3062</td>\n",
              "      <td>ohc</td>\n",
              "      <td>four</td>\n",
              "      <td>141</td>\n",
              "      <td>mpfi</td>\n",
              "      <td>3.78</td>\n",
              "      <td>3.15</td>\n",
              "      <td>9.5</td>\n",
              "      <td>114</td>\n",
              "      <td>5400</td>\n",
              "      <td>19</td>\n",
              "      <td>25</td>\n",
              "      <td>22625.0</td>\n",
              "    </tr>\n",
              "  </tbody>\n",
              "</table>\n",
              "</div>"
            ],
            "text/plain": [
              "     car_ID  symboling          CarName  ... citympg highwaympg    price\n",
              "200     201         -1  volvo 145e (sw)  ...      23         28  16845.0\n",
              "201     202         -1      volvo 144ea  ...      19         25  19045.0\n",
              "202     203         -1      volvo 244dl  ...      18         23  21485.0\n",
              "203     204         -1        volvo 246  ...      26         27  22470.0\n",
              "204     205         -1      volvo 264gl  ...      19         25  22625.0\n",
              "\n",
              "[5 rows x 26 columns]"
            ]
          },
          "metadata": {
            "tags": []
          },
          "execution_count": 5
        }
      ]
    },
    {
      "cell_type": "code",
      "metadata": {
        "id": "_hKLuWjrxU98",
        "colab": {
          "base_uri": "https://localhost:8080/",
          "height": 213
        },
        "outputId": "8893bfdf-add7-4351-b8e1-6ac00351213c"
      },
      "source": [
        "# check randomly 3 rows using sample methods\n",
        "df.sample(3)"
      ],
      "execution_count": 6,
      "outputs": [
        {
          "output_type": "execute_result",
          "data": {
            "text/html": [
              "<div>\n",
              "<style scoped>\n",
              "    .dataframe tbody tr th:only-of-type {\n",
              "        vertical-align: middle;\n",
              "    }\n",
              "\n",
              "    .dataframe tbody tr th {\n",
              "        vertical-align: top;\n",
              "    }\n",
              "\n",
              "    .dataframe thead th {\n",
              "        text-align: right;\n",
              "    }\n",
              "</style>\n",
              "<table border=\"1\" class=\"dataframe\">\n",
              "  <thead>\n",
              "    <tr style=\"text-align: right;\">\n",
              "      <th></th>\n",
              "      <th>car_ID</th>\n",
              "      <th>symboling</th>\n",
              "      <th>CarName</th>\n",
              "      <th>fueltype</th>\n",
              "      <th>aspiration</th>\n",
              "      <th>doornumber</th>\n",
              "      <th>carbody</th>\n",
              "      <th>drivewheel</th>\n",
              "      <th>enginelocation</th>\n",
              "      <th>wheelbase</th>\n",
              "      <th>carlength</th>\n",
              "      <th>carwidth</th>\n",
              "      <th>carheight</th>\n",
              "      <th>curbweight</th>\n",
              "      <th>enginetype</th>\n",
              "      <th>cylindernumber</th>\n",
              "      <th>enginesize</th>\n",
              "      <th>fuelsystem</th>\n",
              "      <th>boreratio</th>\n",
              "      <th>stroke</th>\n",
              "      <th>compressionratio</th>\n",
              "      <th>horsepower</th>\n",
              "      <th>peakrpm</th>\n",
              "      <th>citympg</th>\n",
              "      <th>highwaympg</th>\n",
              "      <th>price</th>\n",
              "    </tr>\n",
              "  </thead>\n",
              "  <tbody>\n",
              "    <tr>\n",
              "      <th>105</th>\n",
              "      <td>106</td>\n",
              "      <td>3</td>\n",
              "      <td>nissan kicks</td>\n",
              "      <td>gas</td>\n",
              "      <td>turbo</td>\n",
              "      <td>two</td>\n",
              "      <td>hatchback</td>\n",
              "      <td>rwd</td>\n",
              "      <td>front</td>\n",
              "      <td>91.3</td>\n",
              "      <td>170.7</td>\n",
              "      <td>67.9</td>\n",
              "      <td>49.7</td>\n",
              "      <td>3139</td>\n",
              "      <td>ohcv</td>\n",
              "      <td>six</td>\n",
              "      <td>181</td>\n",
              "      <td>mpfi</td>\n",
              "      <td>3.43</td>\n",
              "      <td>3.27</td>\n",
              "      <td>7.8</td>\n",
              "      <td>200</td>\n",
              "      <td>5200</td>\n",
              "      <td>17</td>\n",
              "      <td>23</td>\n",
              "      <td>19699.0</td>\n",
              "    </tr>\n",
              "    <tr>\n",
              "      <th>131</th>\n",
              "      <td>132</td>\n",
              "      <td>2</td>\n",
              "      <td>renault 5 gtl</td>\n",
              "      <td>gas</td>\n",
              "      <td>std</td>\n",
              "      <td>two</td>\n",
              "      <td>hatchback</td>\n",
              "      <td>fwd</td>\n",
              "      <td>front</td>\n",
              "      <td>96.1</td>\n",
              "      <td>176.8</td>\n",
              "      <td>66.6</td>\n",
              "      <td>50.5</td>\n",
              "      <td>2460</td>\n",
              "      <td>ohc</td>\n",
              "      <td>four</td>\n",
              "      <td>132</td>\n",
              "      <td>mpfi</td>\n",
              "      <td>3.46</td>\n",
              "      <td>3.90</td>\n",
              "      <td>8.7</td>\n",
              "      <td>90</td>\n",
              "      <td>5100</td>\n",
              "      <td>23</td>\n",
              "      <td>31</td>\n",
              "      <td>9895.0</td>\n",
              "    </tr>\n",
              "    <tr>\n",
              "      <th>69</th>\n",
              "      <td>70</td>\n",
              "      <td>0</td>\n",
              "      <td>buick century</td>\n",
              "      <td>diesel</td>\n",
              "      <td>turbo</td>\n",
              "      <td>two</td>\n",
              "      <td>hardtop</td>\n",
              "      <td>rwd</td>\n",
              "      <td>front</td>\n",
              "      <td>106.7</td>\n",
              "      <td>187.5</td>\n",
              "      <td>70.3</td>\n",
              "      <td>54.9</td>\n",
              "      <td>3495</td>\n",
              "      <td>ohc</td>\n",
              "      <td>five</td>\n",
              "      <td>183</td>\n",
              "      <td>idi</td>\n",
              "      <td>3.58</td>\n",
              "      <td>3.64</td>\n",
              "      <td>21.5</td>\n",
              "      <td>123</td>\n",
              "      <td>4350</td>\n",
              "      <td>22</td>\n",
              "      <td>25</td>\n",
              "      <td>28176.0</td>\n",
              "    </tr>\n",
              "  </tbody>\n",
              "</table>\n",
              "</div>"
            ],
            "text/plain": [
              "     car_ID  symboling        CarName  ... citympg highwaympg    price\n",
              "105     106          3   nissan kicks  ...      17         23  19699.0\n",
              "131     132          2  renault 5 gtl  ...      23         31   9895.0\n",
              "69       70          0  buick century  ...      22         25  28176.0\n",
              "\n",
              "[3 rows x 26 columns]"
            ]
          },
          "metadata": {
            "tags": []
          },
          "execution_count": 6
        }
      ]
    },
    {
      "cell_type": "code",
      "metadata": {
        "id": "T-NOrJvN0WjJ",
        "colab": {
          "base_uri": "https://localhost:8080/"
        },
        "outputId": "de594d2f-102f-4a60-ef5e-dbc62a88fb07"
      },
      "source": [
        "# check null values in data set\n",
        "df.isnull().sum()"
      ],
      "execution_count": 7,
      "outputs": [
        {
          "output_type": "execute_result",
          "data": {
            "text/plain": [
              "car_ID              0\n",
              "symboling           0\n",
              "CarName             0\n",
              "fueltype            0\n",
              "aspiration          0\n",
              "doornumber          0\n",
              "carbody             0\n",
              "drivewheel          0\n",
              "enginelocation      0\n",
              "wheelbase           0\n",
              "carlength           0\n",
              "carwidth            0\n",
              "carheight           0\n",
              "curbweight          0\n",
              "enginetype          0\n",
              "cylindernumber      0\n",
              "enginesize          0\n",
              "fuelsystem          0\n",
              "boreratio           0\n",
              "stroke              0\n",
              "compressionratio    0\n",
              "horsepower          0\n",
              "peakrpm             0\n",
              "citympg             0\n",
              "highwaympg          0\n",
              "price               0\n",
              "dtype: int64"
            ]
          },
          "metadata": {
            "tags": []
          },
          "execution_count": 7
        }
      ]
    },
    {
      "cell_type": "code",
      "metadata": {
        "id": "UZ3th2eh07jz",
        "colab": {
          "base_uri": "https://localhost:8080/",
          "height": 317
        },
        "outputId": "1a75942d-86dd-495b-fcd0-fbe1ff9470e9"
      },
      "source": [
        "# check statistcal description\n",
        "df.describe()"
      ],
      "execution_count": 8,
      "outputs": [
        {
          "output_type": "execute_result",
          "data": {
            "text/html": [
              "<div>\n",
              "<style scoped>\n",
              "    .dataframe tbody tr th:only-of-type {\n",
              "        vertical-align: middle;\n",
              "    }\n",
              "\n",
              "    .dataframe tbody tr th {\n",
              "        vertical-align: top;\n",
              "    }\n",
              "\n",
              "    .dataframe thead th {\n",
              "        text-align: right;\n",
              "    }\n",
              "</style>\n",
              "<table border=\"1\" class=\"dataframe\">\n",
              "  <thead>\n",
              "    <tr style=\"text-align: right;\">\n",
              "      <th></th>\n",
              "      <th>car_ID</th>\n",
              "      <th>symboling</th>\n",
              "      <th>wheelbase</th>\n",
              "      <th>carlength</th>\n",
              "      <th>carwidth</th>\n",
              "      <th>carheight</th>\n",
              "      <th>curbweight</th>\n",
              "      <th>enginesize</th>\n",
              "      <th>boreratio</th>\n",
              "      <th>stroke</th>\n",
              "      <th>compressionratio</th>\n",
              "      <th>horsepower</th>\n",
              "      <th>peakrpm</th>\n",
              "      <th>citympg</th>\n",
              "      <th>highwaympg</th>\n",
              "      <th>price</th>\n",
              "    </tr>\n",
              "  </thead>\n",
              "  <tbody>\n",
              "    <tr>\n",
              "      <th>count</th>\n",
              "      <td>205.000000</td>\n",
              "      <td>205.000000</td>\n",
              "      <td>205.000000</td>\n",
              "      <td>205.000000</td>\n",
              "      <td>205.000000</td>\n",
              "      <td>205.000000</td>\n",
              "      <td>205.000000</td>\n",
              "      <td>205.000000</td>\n",
              "      <td>205.000000</td>\n",
              "      <td>205.000000</td>\n",
              "      <td>205.000000</td>\n",
              "      <td>205.000000</td>\n",
              "      <td>205.000000</td>\n",
              "      <td>205.000000</td>\n",
              "      <td>205.000000</td>\n",
              "      <td>205.000000</td>\n",
              "    </tr>\n",
              "    <tr>\n",
              "      <th>mean</th>\n",
              "      <td>103.000000</td>\n",
              "      <td>0.834146</td>\n",
              "      <td>98.756585</td>\n",
              "      <td>174.049268</td>\n",
              "      <td>65.907805</td>\n",
              "      <td>53.724878</td>\n",
              "      <td>2555.565854</td>\n",
              "      <td>126.907317</td>\n",
              "      <td>3.329756</td>\n",
              "      <td>3.255415</td>\n",
              "      <td>10.142537</td>\n",
              "      <td>104.117073</td>\n",
              "      <td>5125.121951</td>\n",
              "      <td>25.219512</td>\n",
              "      <td>30.751220</td>\n",
              "      <td>13276.710571</td>\n",
              "    </tr>\n",
              "    <tr>\n",
              "      <th>std</th>\n",
              "      <td>59.322565</td>\n",
              "      <td>1.245307</td>\n",
              "      <td>6.021776</td>\n",
              "      <td>12.337289</td>\n",
              "      <td>2.145204</td>\n",
              "      <td>2.443522</td>\n",
              "      <td>520.680204</td>\n",
              "      <td>41.642693</td>\n",
              "      <td>0.270844</td>\n",
              "      <td>0.313597</td>\n",
              "      <td>3.972040</td>\n",
              "      <td>39.544167</td>\n",
              "      <td>476.985643</td>\n",
              "      <td>6.542142</td>\n",
              "      <td>6.886443</td>\n",
              "      <td>7988.852332</td>\n",
              "    </tr>\n",
              "    <tr>\n",
              "      <th>min</th>\n",
              "      <td>1.000000</td>\n",
              "      <td>-2.000000</td>\n",
              "      <td>86.600000</td>\n",
              "      <td>141.100000</td>\n",
              "      <td>60.300000</td>\n",
              "      <td>47.800000</td>\n",
              "      <td>1488.000000</td>\n",
              "      <td>61.000000</td>\n",
              "      <td>2.540000</td>\n",
              "      <td>2.070000</td>\n",
              "      <td>7.000000</td>\n",
              "      <td>48.000000</td>\n",
              "      <td>4150.000000</td>\n",
              "      <td>13.000000</td>\n",
              "      <td>16.000000</td>\n",
              "      <td>5118.000000</td>\n",
              "    </tr>\n",
              "    <tr>\n",
              "      <th>25%</th>\n",
              "      <td>52.000000</td>\n",
              "      <td>0.000000</td>\n",
              "      <td>94.500000</td>\n",
              "      <td>166.300000</td>\n",
              "      <td>64.100000</td>\n",
              "      <td>52.000000</td>\n",
              "      <td>2145.000000</td>\n",
              "      <td>97.000000</td>\n",
              "      <td>3.150000</td>\n",
              "      <td>3.110000</td>\n",
              "      <td>8.600000</td>\n",
              "      <td>70.000000</td>\n",
              "      <td>4800.000000</td>\n",
              "      <td>19.000000</td>\n",
              "      <td>25.000000</td>\n",
              "      <td>7788.000000</td>\n",
              "    </tr>\n",
              "    <tr>\n",
              "      <th>50%</th>\n",
              "      <td>103.000000</td>\n",
              "      <td>1.000000</td>\n",
              "      <td>97.000000</td>\n",
              "      <td>173.200000</td>\n",
              "      <td>65.500000</td>\n",
              "      <td>54.100000</td>\n",
              "      <td>2414.000000</td>\n",
              "      <td>120.000000</td>\n",
              "      <td>3.310000</td>\n",
              "      <td>3.290000</td>\n",
              "      <td>9.000000</td>\n",
              "      <td>95.000000</td>\n",
              "      <td>5200.000000</td>\n",
              "      <td>24.000000</td>\n",
              "      <td>30.000000</td>\n",
              "      <td>10295.000000</td>\n",
              "    </tr>\n",
              "    <tr>\n",
              "      <th>75%</th>\n",
              "      <td>154.000000</td>\n",
              "      <td>2.000000</td>\n",
              "      <td>102.400000</td>\n",
              "      <td>183.100000</td>\n",
              "      <td>66.900000</td>\n",
              "      <td>55.500000</td>\n",
              "      <td>2935.000000</td>\n",
              "      <td>141.000000</td>\n",
              "      <td>3.580000</td>\n",
              "      <td>3.410000</td>\n",
              "      <td>9.400000</td>\n",
              "      <td>116.000000</td>\n",
              "      <td>5500.000000</td>\n",
              "      <td>30.000000</td>\n",
              "      <td>34.000000</td>\n",
              "      <td>16503.000000</td>\n",
              "    </tr>\n",
              "    <tr>\n",
              "      <th>max</th>\n",
              "      <td>205.000000</td>\n",
              "      <td>3.000000</td>\n",
              "      <td>120.900000</td>\n",
              "      <td>208.100000</td>\n",
              "      <td>72.300000</td>\n",
              "      <td>59.800000</td>\n",
              "      <td>4066.000000</td>\n",
              "      <td>326.000000</td>\n",
              "      <td>3.940000</td>\n",
              "      <td>4.170000</td>\n",
              "      <td>23.000000</td>\n",
              "      <td>288.000000</td>\n",
              "      <td>6600.000000</td>\n",
              "      <td>49.000000</td>\n",
              "      <td>54.000000</td>\n",
              "      <td>45400.000000</td>\n",
              "    </tr>\n",
              "  </tbody>\n",
              "</table>\n",
              "</div>"
            ],
            "text/plain": [
              "           car_ID   symboling   wheelbase  ...     citympg  highwaympg         price\n",
              "count  205.000000  205.000000  205.000000  ...  205.000000  205.000000    205.000000\n",
              "mean   103.000000    0.834146   98.756585  ...   25.219512   30.751220  13276.710571\n",
              "std     59.322565    1.245307    6.021776  ...    6.542142    6.886443   7988.852332\n",
              "min      1.000000   -2.000000   86.600000  ...   13.000000   16.000000   5118.000000\n",
              "25%     52.000000    0.000000   94.500000  ...   19.000000   25.000000   7788.000000\n",
              "50%    103.000000    1.000000   97.000000  ...   24.000000   30.000000  10295.000000\n",
              "75%    154.000000    2.000000  102.400000  ...   30.000000   34.000000  16503.000000\n",
              "max    205.000000    3.000000  120.900000  ...   49.000000   54.000000  45400.000000\n",
              "\n",
              "[8 rows x 16 columns]"
            ]
          },
          "metadata": {
            "tags": []
          },
          "execution_count": 8
        }
      ]
    },
    {
      "cell_type": "code",
      "metadata": {
        "id": "Gfbzc1Pa1kqs",
        "colab": {
          "base_uri": "https://localhost:8080/"
        },
        "outputId": "5e9be872-0764-4079-ab35-b4c13c6f0592"
      },
      "source": [
        "# check all dataframe information by using info\n",
        "df.info()"
      ],
      "execution_count": 9,
      "outputs": [
        {
          "output_type": "stream",
          "text": [
            "<class 'pandas.core.frame.DataFrame'>\n",
            "RangeIndex: 205 entries, 0 to 204\n",
            "Data columns (total 26 columns):\n",
            " #   Column            Non-Null Count  Dtype  \n",
            "---  ------            --------------  -----  \n",
            " 0   car_ID            205 non-null    int64  \n",
            " 1   symboling         205 non-null    int64  \n",
            " 2   CarName           205 non-null    object \n",
            " 3   fueltype          205 non-null    object \n",
            " 4   aspiration        205 non-null    object \n",
            " 5   doornumber        205 non-null    object \n",
            " 6   carbody           205 non-null    object \n",
            " 7   drivewheel        205 non-null    object \n",
            " 8   enginelocation    205 non-null    object \n",
            " 9   wheelbase         205 non-null    float64\n",
            " 10  carlength         205 non-null    float64\n",
            " 11  carwidth          205 non-null    float64\n",
            " 12  carheight         205 non-null    float64\n",
            " 13  curbweight        205 non-null    int64  \n",
            " 14  enginetype        205 non-null    object \n",
            " 15  cylindernumber    205 non-null    object \n",
            " 16  enginesize        205 non-null    int64  \n",
            " 17  fuelsystem        205 non-null    object \n",
            " 18  boreratio         205 non-null    float64\n",
            " 19  stroke            205 non-null    float64\n",
            " 20  compressionratio  205 non-null    float64\n",
            " 21  horsepower        205 non-null    int64  \n",
            " 22  peakrpm           205 non-null    int64  \n",
            " 23  citympg           205 non-null    int64  \n",
            " 24  highwaympg        205 non-null    int64  \n",
            " 25  price             205 non-null    float64\n",
            "dtypes: float64(8), int64(8), object(10)\n",
            "memory usage: 41.8+ KB\n"
          ],
          "name": "stdout"
        }
      ]
    },
    {
      "cell_type": "code",
      "metadata": {
        "id": "NlMuMo5B3Hgm",
        "colab": {
          "base_uri": "https://localhost:8080/"
        },
        "outputId": "3d326134-acb0-4600-aa29-b71c25d4edd4"
      },
      "source": [
        "# check any duplicated values in data frame\n",
        "df.duplicated().any()"
      ],
      "execution_count": 10,
      "outputs": [
        {
          "output_type": "execute_result",
          "data": {
            "text/plain": [
              "False"
            ]
          },
          "metadata": {
            "tags": []
          },
          "execution_count": 10
        }
      ]
    },
    {
      "cell_type": "code",
      "metadata": {
        "id": "Q1mh6UfdCqoz"
      },
      "source": [
        "# dataframe spliting into input(X) & output(y)\n",
        "X=df.iloc[:,:-1]\n",
        "y=df.iloc[:,-1]\n"
      ],
      "execution_count": 11,
      "outputs": []
    },
    {
      "cell_type": "code",
      "metadata": {
        "id": "3OZ3H6BTVHOr"
      },
      "source": [
        "# Drop all non_numeric features\n",
        "X.drop(X.select_dtypes(include='object'),axis=1,inplace=True)"
      ],
      "execution_count": 12,
      "outputs": []
    },
    {
      "cell_type": "code",
      "metadata": {
        "id": "MzUTdKgUwV3t",
        "colab": {
          "base_uri": "https://localhost:8080/"
        },
        "outputId": "5379e42d-8305-4c5d-aa7e-8312b6ef4b24"
      },
      "source": [
        "# check duplicated values\n",
        "X.duplicated().any()"
      ],
      "execution_count": 13,
      "outputs": [
        {
          "output_type": "execute_result",
          "data": {
            "text/plain": [
              "False"
            ]
          },
          "metadata": {
            "tags": []
          },
          "execution_count": 13
        }
      ]
    },
    {
      "cell_type": "code",
      "metadata": {
        "id": "demtKuus0kys",
        "colab": {
          "base_uri": "https://localhost:8080/"
        },
        "outputId": "96a86382-6781-4294-f9ee-01298d74148e"
      },
      "source": [
        "# check the shape of input (X) and ouputs(Y)\n",
        "print(f\"Shape of input ==> X :{X.shape}\\nShape of output ==> Y :{y.shape} \")"
      ],
      "execution_count": 14,
      "outputs": [
        {
          "output_type": "stream",
          "text": [
            "Shape of input ==> X :(205, 15)\n",
            "Shape of output ==> Y :(205,) \n"
          ],
          "name": "stdout"
        }
      ]
    },
    {
      "cell_type": "markdown",
      "metadata": {
        "id": "J7waFHeoMj5e"
      },
      "source": [
        "***Data spliting into train and testing***"
      ]
    },
    {
      "cell_type": "code",
      "metadata": {
        "id": "pIe-zkdE3qs6"
      },
      "source": [
        "# spliting data into training data (X_train) as  training labels (y_train)\n",
        "X_train=X.sample(frac=0.7, random_state=1,axis=0)\n",
        "y_train=y.sample(frac=0.7, random_state=1,axis=0)"
      ],
      "execution_count": 15,
      "outputs": []
    },
    {
      "cell_type": "code",
      "metadata": {
        "id": "ls4tWALd6Pzz"
      },
      "source": [
        "# spliting data into training data (X_test) as  training labels (y_test)\n",
        "X_test=X.sample(frac=0.3, replace=True, random_state=1,axis=0)\n",
        "y_test=y.sample(frac=0.3, replace=True, random_state=1,axis=0)\n"
      ],
      "execution_count": 16,
      "outputs": []
    },
    {
      "cell_type": "code",
      "metadata": {
        "id": "JI-o-2GyzL81",
        "outputId": "91a6a02b-c78a-431f-9332-68adcfe1b810",
        "colab": {
          "base_uri": "https://localhost:8080/"
        }
      },
      "source": [
        "y_test"
      ],
      "execution_count": 17,
      "outputs": [
        {
          "output_type": "execute_result",
          "data": {
            "text/plain": [
              "37      7895.0\n",
              "140     7603.0\n",
              "72     35056.0\n",
              "137    18620.0\n",
              "203    22470.0\n",
              "        ...   \n",
              "109    12440.0\n",
              "115    16630.0\n",
              "41     12945.0\n",
              "15     30760.0\n",
              "64     11245.0\n",
              "Name: price, Length: 62, dtype: float64"
            ]
          },
          "metadata": {
            "tags": []
          },
          "execution_count": 17
        }
      ]
    },
    {
      "cell_type": "code",
      "metadata": {
        "id": "SCDVPUsm4ZaE",
        "colab": {
          "base_uri": "https://localhost:8080/"
        },
        "outputId": "bc3205df-feb2-428d-9bdf-2580497074af"
      },
      "source": [
        "# Check the shape of training data,testing data,training labels,testing labels\n",
        "print(f\"shape of training data is :{X_train.shape}\\nshape of training label is :{y_train.shape}\\nshape of testing data is :{X_test.shape}\\nshape of testing label is :{y_test.shape}\")"
      ],
      "execution_count": 18,
      "outputs": [
        {
          "output_type": "stream",
          "text": [
            "shape of training data is :(144, 15)\n",
            "shape of training label is :(144,)\n",
            "shape of testing data is :(62, 15)\n",
            "shape of testing label is :(62,)\n"
          ],
          "name": "stdout"
        }
      ]
    },
    {
      "cell_type": "markdown",
      "metadata": {
        "id": "Cy6khG3YMvfh"
      },
      "source": [
        "***Data preparing for model (normalizing,changeing datatype,datatype convert into array)***"
      ]
    },
    {
      "cell_type": "code",
      "metadata": {
        "id": "tZHITtDV2RrM"
      },
      "source": [
        "#convert training and testing data into numpy array and also change datatypes into Float\n",
        "X_train=np.asarray(X_train).astype(\"float32\")\n",
        "y_train=np.asarray(y_train).astype(\"float32\")\n",
        "X_test=np.asarray(X_test).astype(\"float32\")\n",
        "y_test=np.asarray(y_test).astype(\"float32\")"
      ],
      "execution_count": 19,
      "outputs": []
    },
    {
      "cell_type": "code",
      "metadata": {
        "id": "6kW2_oHrSi-F"
      },
      "source": [
        "#Data normalization \n",
        "mean = X_train.mean(axis=0)\n",
        "X_train-= mean\n",
        "std = X_train.std(axis=0)\n",
        "X_train/= std\n",
        "X_test-= mean\n",
        "X_test/= std"
      ],
      "execution_count": 20,
      "outputs": []
    },
    {
      "cell_type": "code",
      "metadata": {
        "id": "fdeIgaOLX9GO"
      },
      "source": [
        "# labels \n",
        "y_mean = y_train.mean(axis=0)\n",
        "y_train-= y_mean\n",
        "y_std = y_train.std(axis=0)\n",
        "y_train/= y_std\n",
        "y_test-= y_mean\n",
        "y_test/= y_std"
      ],
      "execution_count": 21,
      "outputs": []
    },
    {
      "cell_type": "code",
      "metadata": {
        "id": "DDddSyUv8k4F"
      },
      "source": [
        "# validation Data split from training Data\n",
        "val_x=X_train[:50]\n",
        "partial_x_train=X_train[50:]\n",
        "val_y=y_train[:50]\n",
        "partial_y_train=y_train[50:]"
      ],
      "execution_count": 22,
      "outputs": []
    },
    {
      "cell_type": "code",
      "metadata": {
        "id": "3knFXQlZK3ug"
      },
      "source": [
        "# importing all libariries\n",
        "import tensorflow as tf\n",
        "from keras import models,layers,optimizers,losses\n"
      ],
      "execution_count": 23,
      "outputs": []
    },
    {
      "cell_type": "markdown",
      "metadata": {
        "id": "sSOZzKoLNZfD"
      },
      "source": [
        "**Model building and all operation regarding model weights adjustment i.e dropout**"
      ]
    },
    {
      "cell_type": "code",
      "metadata": {
        "id": "tzNVnHUf3ffq"
      },
      "source": [
        "# model buildup\n",
        "network=models.Sequential()\n",
        "network.add(layers.Dense(10,activation=\"relu\" ,input_shape=(X_train.shape[1],)))\n",
        "network.add(layers.Dropout(0.2))\n",
        "network.add(layers.Dense(8,activation=\"relu\"))\n",
        "#network.add(layers.Dropout(0.2))\n",
        "network.add(layers.Dense(6,activation=\"relu\"))\n",
        "network.add(layers.Dense(1))"
      ],
      "execution_count": 24,
      "outputs": []
    },
    {
      "cell_type": "code",
      "metadata": {
        "id": "v_nWZA0N6dvU"
      },
      "source": [
        "# model compliling\n",
        "network.compile(optimizer=\"rmsprop\",loss=\"mse\",metrics=[\"mae\"])"
      ],
      "execution_count": 25,
      "outputs": []
    },
    {
      "cell_type": "code",
      "metadata": {
        "id": "KuqIjhIy6bGC",
        "colab": {
          "base_uri": "https://localhost:8080/"
        },
        "outputId": "511a6431-bd43-4816-8722-c4ea9cab4396"
      },
      "source": [
        "# check summaryof models\n",
        "network.summary()"
      ],
      "execution_count": 26,
      "outputs": [
        {
          "output_type": "stream",
          "text": [
            "Model: \"sequential\"\n",
            "_________________________________________________________________\n",
            "Layer (type)                 Output Shape              Param #   \n",
            "=================================================================\n",
            "dense (Dense)                (None, 10)                160       \n",
            "_________________________________________________________________\n",
            "dropout (Dropout)            (None, 10)                0         \n",
            "_________________________________________________________________\n",
            "dense_1 (Dense)              (None, 8)                 88        \n",
            "_________________________________________________________________\n",
            "dense_2 (Dense)              (None, 6)                 54        \n",
            "_________________________________________________________________\n",
            "dense_3 (Dense)              (None, 1)                 7         \n",
            "=================================================================\n",
            "Total params: 309\n",
            "Trainable params: 309\n",
            "Non-trainable params: 0\n",
            "_________________________________________________________________\n"
          ],
          "name": "stdout"
        }
      ]
    },
    {
      "cell_type": "code",
      "metadata": {
        "id": "QliTGCi94XDc",
        "colab": {
          "base_uri": "https://localhost:8080/"
        },
        "outputId": "7bfb0d26-1076-4b6b-b07b-fdb065563b80"
      },
      "source": [
        "# model training on training data & validation data\n",
        "history=network.fit(partial_x_train, partial_y_train,epochs=90, batch_size=1, verbose=1,validation_data=(val_x,val_y))"
      ],
      "execution_count": 27,
      "outputs": [
        {
          "output_type": "stream",
          "text": [
            "Epoch 1/90\n",
            "94/94 [==============================] - 1s 6ms/step - loss: 0.7343 - mae: 0.5770 - val_loss: 0.7434 - val_mae: 0.5113\n",
            "Epoch 2/90\n",
            "94/94 [==============================] - 0s 2ms/step - loss: 0.6845 - mae: 0.5500 - val_loss: 0.6506 - val_mae: 0.4820\n",
            "Epoch 3/90\n",
            "94/94 [==============================] - 0s 2ms/step - loss: 0.9441 - mae: 0.6538 - val_loss: 0.5693 - val_mae: 0.4578\n",
            "Epoch 4/90\n",
            "94/94 [==============================] - 0s 2ms/step - loss: 0.6995 - mae: 0.5652 - val_loss: 0.4482 - val_mae: 0.4084\n",
            "Epoch 5/90\n",
            "94/94 [==============================] - 0s 2ms/step - loss: 0.3915 - mae: 0.4541 - val_loss: 0.3730 - val_mae: 0.3860\n",
            "Epoch 6/90\n",
            "94/94 [==============================] - 0s 2ms/step - loss: 0.7312 - mae: 0.5535 - val_loss: 0.3652 - val_mae: 0.3812\n",
            "Epoch 7/90\n",
            "94/94 [==============================] - 0s 2ms/step - loss: 0.3054 - mae: 0.3797 - val_loss: 0.2954 - val_mae: 0.3511\n",
            "Epoch 8/90\n",
            "94/94 [==============================] - 0s 2ms/step - loss: 0.4874 - mae: 0.4464 - val_loss: 0.2522 - val_mae: 0.3376\n",
            "Epoch 9/90\n",
            "94/94 [==============================] - 0s 2ms/step - loss: 0.1894 - mae: 0.3034 - val_loss: 0.2083 - val_mae: 0.3274\n",
            "Epoch 10/90\n",
            "94/94 [==============================] - 0s 2ms/step - loss: 0.3225 - mae: 0.3946 - val_loss: 0.1742 - val_mae: 0.3161\n",
            "Epoch 11/90\n",
            "94/94 [==============================] - 0s 2ms/step - loss: 0.2275 - mae: 0.3288 - val_loss: 0.1728 - val_mae: 0.3021\n",
            "Epoch 12/90\n",
            "94/94 [==============================] - 0s 2ms/step - loss: 0.1540 - mae: 0.2585 - val_loss: 0.1682 - val_mae: 0.2940\n",
            "Epoch 13/90\n",
            "94/94 [==============================] - 0s 2ms/step - loss: 0.1785 - mae: 0.3101 - val_loss: 0.1450 - val_mae: 0.2760\n",
            "Epoch 14/90\n",
            "94/94 [==============================] - 0s 2ms/step - loss: 0.3025 - mae: 0.4141 - val_loss: 0.1484 - val_mae: 0.2753\n",
            "Epoch 15/90\n",
            "94/94 [==============================] - 0s 2ms/step - loss: 0.3054 - mae: 0.3624 - val_loss: 0.1586 - val_mae: 0.2796\n",
            "Epoch 16/90\n",
            "94/94 [==============================] - 0s 2ms/step - loss: 0.3750 - mae: 0.3507 - val_loss: 0.1441 - val_mae: 0.2699\n",
            "Epoch 17/90\n",
            "94/94 [==============================] - 0s 2ms/step - loss: 0.2196 - mae: 0.3024 - val_loss: 0.1533 - val_mae: 0.2765\n",
            "Epoch 18/90\n",
            "94/94 [==============================] - 0s 2ms/step - loss: 0.3044 - mae: 0.3401 - val_loss: 0.1412 - val_mae: 0.2676\n",
            "Epoch 19/90\n",
            "94/94 [==============================] - 0s 2ms/step - loss: 0.3923 - mae: 0.4233 - val_loss: 0.1403 - val_mae: 0.2623\n",
            "Epoch 20/90\n",
            "94/94 [==============================] - 0s 2ms/step - loss: 0.1416 - mae: 0.2492 - val_loss: 0.1372 - val_mae: 0.2597\n",
            "Epoch 21/90\n",
            "94/94 [==============================] - 0s 2ms/step - loss: 0.1587 - mae: 0.2470 - val_loss: 0.1300 - val_mae: 0.2572\n",
            "Epoch 22/90\n",
            "94/94 [==============================] - 0s 2ms/step - loss: 0.1676 - mae: 0.2900 - val_loss: 0.1258 - val_mae: 0.2512\n",
            "Epoch 23/90\n",
            "94/94 [==============================] - 0s 2ms/step - loss: 0.3100 - mae: 0.3289 - val_loss: 0.1264 - val_mae: 0.2528\n",
            "Epoch 24/90\n",
            "94/94 [==============================] - 0s 2ms/step - loss: 0.1520 - mae: 0.2339 - val_loss: 0.1287 - val_mae: 0.2507\n",
            "Epoch 25/90\n",
            "94/94 [==============================] - 0s 2ms/step - loss: 0.1259 - mae: 0.2347 - val_loss: 0.1351 - val_mae: 0.2613\n",
            "Epoch 26/90\n",
            "94/94 [==============================] - 0s 2ms/step - loss: 0.1265 - mae: 0.2348 - val_loss: 0.1225 - val_mae: 0.2455\n",
            "Epoch 27/90\n",
            "94/94 [==============================] - 0s 2ms/step - loss: 0.2264 - mae: 0.2960 - val_loss: 0.1243 - val_mae: 0.2417\n",
            "Epoch 28/90\n",
            "94/94 [==============================] - 0s 2ms/step - loss: 0.1894 - mae: 0.2876 - val_loss: 0.1362 - val_mae: 0.2515\n",
            "Epoch 29/90\n",
            "94/94 [==============================] - 0s 2ms/step - loss: 0.1200 - mae: 0.2248 - val_loss: 0.1156 - val_mae: 0.2400\n",
            "Epoch 30/90\n",
            "94/94 [==============================] - 0s 2ms/step - loss: 0.1322 - mae: 0.2491 - val_loss: 0.1171 - val_mae: 0.2337\n",
            "Epoch 31/90\n",
            "94/94 [==============================] - 0s 2ms/step - loss: 0.1599 - mae: 0.2509 - val_loss: 0.1176 - val_mae: 0.2357\n",
            "Epoch 32/90\n",
            "94/94 [==============================] - 0s 2ms/step - loss: 0.1399 - mae: 0.2622 - val_loss: 0.1202 - val_mae: 0.2337\n",
            "Epoch 33/90\n",
            "94/94 [==============================] - 0s 2ms/step - loss: 0.1977 - mae: 0.2535 - val_loss: 0.1218 - val_mae: 0.2367\n",
            "Epoch 34/90\n",
            "94/94 [==============================] - 0s 2ms/step - loss: 0.0881 - mae: 0.1961 - val_loss: 0.1205 - val_mae: 0.2354\n",
            "Epoch 35/90\n",
            "94/94 [==============================] - 0s 2ms/step - loss: 0.4272 - mae: 0.3348 - val_loss: 0.1197 - val_mae: 0.2325\n",
            "Epoch 36/90\n",
            "94/94 [==============================] - 0s 2ms/step - loss: 0.1780 - mae: 0.2402 - val_loss: 0.1103 - val_mae: 0.2229\n",
            "Epoch 37/90\n",
            "94/94 [==============================] - 0s 2ms/step - loss: 0.2012 - mae: 0.2646 - val_loss: 0.1142 - val_mae: 0.2251\n",
            "Epoch 38/90\n",
            "94/94 [==============================] - 0s 2ms/step - loss: 0.2372 - mae: 0.3020 - val_loss: 0.1198 - val_mae: 0.2338\n",
            "Epoch 39/90\n",
            "94/94 [==============================] - 0s 2ms/step - loss: 0.1082 - mae: 0.2213 - val_loss: 0.1142 - val_mae: 0.2285\n",
            "Epoch 40/90\n",
            "94/94 [==============================] - 0s 2ms/step - loss: 0.2276 - mae: 0.2553 - val_loss: 0.1423 - val_mae: 0.2573\n",
            "Epoch 41/90\n",
            "94/94 [==============================] - 0s 2ms/step - loss: 0.2273 - mae: 0.2721 - val_loss: 0.1285 - val_mae: 0.2450\n",
            "Epoch 42/90\n",
            "94/94 [==============================] - 0s 2ms/step - loss: 0.2174 - mae: 0.3307 - val_loss: 0.1029 - val_mae: 0.2159\n",
            "Epoch 43/90\n",
            "94/94 [==============================] - 0s 2ms/step - loss: 0.1141 - mae: 0.2350 - val_loss: 0.1321 - val_mae: 0.2440\n",
            "Epoch 44/90\n",
            "94/94 [==============================] - 0s 2ms/step - loss: 0.1195 - mae: 0.2265 - val_loss: 0.1088 - val_mae: 0.2242\n",
            "Epoch 45/90\n",
            "94/94 [==============================] - 0s 2ms/step - loss: 0.1552 - mae: 0.2620 - val_loss: 0.1076 - val_mae: 0.2215\n",
            "Epoch 46/90\n",
            "94/94 [==============================] - 0s 2ms/step - loss: 0.0832 - mae: 0.2035 - val_loss: 0.1077 - val_mae: 0.2247\n",
            "Epoch 47/90\n",
            "94/94 [==============================] - 0s 2ms/step - loss: 0.1206 - mae: 0.2249 - val_loss: 0.1061 - val_mae: 0.2230\n",
            "Epoch 48/90\n",
            "94/94 [==============================] - 0s 2ms/step - loss: 0.1581 - mae: 0.2756 - val_loss: 0.1063 - val_mae: 0.2163\n",
            "Epoch 49/90\n",
            "94/94 [==============================] - 0s 2ms/step - loss: 0.0874 - mae: 0.1940 - val_loss: 0.1436 - val_mae: 0.2516\n",
            "Epoch 50/90\n",
            "94/94 [==============================] - 0s 2ms/step - loss: 0.1111 - mae: 0.2220 - val_loss: 0.0985 - val_mae: 0.2053\n",
            "Epoch 51/90\n",
            "94/94 [==============================] - 0s 2ms/step - loss: 0.1380 - mae: 0.2567 - val_loss: 0.1224 - val_mae: 0.2395\n",
            "Epoch 52/90\n",
            "94/94 [==============================] - 0s 2ms/step - loss: 0.0974 - mae: 0.1906 - val_loss: 0.1035 - val_mae: 0.2207\n",
            "Epoch 53/90\n",
            "94/94 [==============================] - 0s 2ms/step - loss: 0.1240 - mae: 0.2121 - val_loss: 0.1089 - val_mae: 0.2190\n",
            "Epoch 54/90\n",
            "94/94 [==============================] - 0s 2ms/step - loss: 0.1702 - mae: 0.2525 - val_loss: 0.1053 - val_mae: 0.2220\n",
            "Epoch 55/90\n",
            "94/94 [==============================] - 0s 2ms/step - loss: 0.1513 - mae: 0.2194 - val_loss: 0.1024 - val_mae: 0.2204\n",
            "Epoch 56/90\n",
            "94/94 [==============================] - 0s 2ms/step - loss: 0.2366 - mae: 0.2756 - val_loss: 0.1147 - val_mae: 0.2321\n",
            "Epoch 57/90\n",
            "94/94 [==============================] - 0s 2ms/step - loss: 0.1024 - mae: 0.2068 - val_loss: 0.1092 - val_mae: 0.2236\n",
            "Epoch 58/90\n",
            "94/94 [==============================] - 0s 2ms/step - loss: 0.0613 - mae: 0.1625 - val_loss: 0.1051 - val_mae: 0.2197\n",
            "Epoch 59/90\n",
            "94/94 [==============================] - 0s 2ms/step - loss: 0.1433 - mae: 0.2169 - val_loss: 0.1016 - val_mae: 0.2106\n",
            "Epoch 60/90\n",
            "94/94 [==============================] - 0s 2ms/step - loss: 0.0742 - mae: 0.1762 - val_loss: 0.1059 - val_mae: 0.2206\n",
            "Epoch 61/90\n",
            "94/94 [==============================] - 0s 2ms/step - loss: 0.1641 - mae: 0.2660 - val_loss: 0.1079 - val_mae: 0.2206\n",
            "Epoch 62/90\n",
            "94/94 [==============================] - 0s 2ms/step - loss: 0.1788 - mae: 0.2544 - val_loss: 0.1041 - val_mae: 0.2171\n",
            "Epoch 63/90\n",
            "94/94 [==============================] - 0s 2ms/step - loss: 0.1023 - mae: 0.2107 - val_loss: 0.1086 - val_mae: 0.2243\n",
            "Epoch 64/90\n",
            "94/94 [==============================] - 0s 2ms/step - loss: 0.1109 - mae: 0.2180 - val_loss: 0.1168 - val_mae: 0.2303\n",
            "Epoch 65/90\n",
            "94/94 [==============================] - 0s 2ms/step - loss: 0.2076 - mae: 0.2486 - val_loss: 0.1053 - val_mae: 0.2185\n",
            "Epoch 66/90\n",
            "94/94 [==============================] - 0s 2ms/step - loss: 0.1115 - mae: 0.2086 - val_loss: 0.1038 - val_mae: 0.2152\n",
            "Epoch 67/90\n",
            "94/94 [==============================] - 0s 2ms/step - loss: 0.0935 - mae: 0.1926 - val_loss: 0.1126 - val_mae: 0.2266\n",
            "Epoch 68/90\n",
            "94/94 [==============================] - 0s 2ms/step - loss: 0.1774 - mae: 0.2516 - val_loss: 0.1055 - val_mae: 0.2210\n",
            "Epoch 69/90\n",
            "94/94 [==============================] - 0s 2ms/step - loss: 0.0628 - mae: 0.1726 - val_loss: 0.1164 - val_mae: 0.2299\n",
            "Epoch 70/90\n",
            "94/94 [==============================] - 0s 2ms/step - loss: 0.0853 - mae: 0.1627 - val_loss: 0.1075 - val_mae: 0.2149\n",
            "Epoch 71/90\n",
            "94/94 [==============================] - 0s 2ms/step - loss: 0.1077 - mae: 0.2360 - val_loss: 0.1226 - val_mae: 0.2297\n",
            "Epoch 72/90\n",
            "94/94 [==============================] - 0s 2ms/step - loss: 0.1413 - mae: 0.2201 - val_loss: 0.1093 - val_mae: 0.2242\n",
            "Epoch 73/90\n",
            "94/94 [==============================] - 0s 2ms/step - loss: 0.0813 - mae: 0.1694 - val_loss: 0.1139 - val_mae: 0.2178\n",
            "Epoch 74/90\n",
            "94/94 [==============================] - 0s 2ms/step - loss: 0.1924 - mae: 0.2743 - val_loss: 0.1210 - val_mae: 0.2194\n",
            "Epoch 75/90\n",
            "94/94 [==============================] - 0s 2ms/step - loss: 0.1791 - mae: 0.2261 - val_loss: 0.1100 - val_mae: 0.2155\n",
            "Epoch 76/90\n",
            "94/94 [==============================] - 0s 2ms/step - loss: 0.1226 - mae: 0.2403 - val_loss: 0.1108 - val_mae: 0.2133\n",
            "Epoch 77/90\n",
            "94/94 [==============================] - 0s 2ms/step - loss: 0.1826 - mae: 0.1988 - val_loss: 0.1079 - val_mae: 0.2170\n",
            "Epoch 78/90\n",
            "94/94 [==============================] - 0s 2ms/step - loss: 0.1106 - mae: 0.2050 - val_loss: 0.1010 - val_mae: 0.2035\n",
            "Epoch 79/90\n",
            "94/94 [==============================] - 0s 2ms/step - loss: 0.2092 - mae: 0.2433 - val_loss: 0.1085 - val_mae: 0.2162\n",
            "Epoch 80/90\n",
            "94/94 [==============================] - 0s 2ms/step - loss: 0.1022 - mae: 0.2018 - val_loss: 0.1086 - val_mae: 0.2133\n",
            "Epoch 81/90\n",
            "94/94 [==============================] - 0s 2ms/step - loss: 0.1098 - mae: 0.2044 - val_loss: 0.1065 - val_mae: 0.2273\n",
            "Epoch 82/90\n",
            "94/94 [==============================] - 0s 2ms/step - loss: 0.2050 - mae: 0.2530 - val_loss: 0.1041 - val_mae: 0.2188\n",
            "Epoch 83/90\n",
            "94/94 [==============================] - 0s 2ms/step - loss: 0.1369 - mae: 0.2160 - val_loss: 0.1371 - val_mae: 0.2489\n",
            "Epoch 84/90\n",
            "94/94 [==============================] - 0s 2ms/step - loss: 0.1420 - mae: 0.2219 - val_loss: 0.1157 - val_mae: 0.2183\n",
            "Epoch 85/90\n",
            "94/94 [==============================] - 0s 2ms/step - loss: 0.1038 - mae: 0.1785 - val_loss: 0.1134 - val_mae: 0.2205\n",
            "Epoch 86/90\n",
            "94/94 [==============================] - 0s 2ms/step - loss: 0.1433 - mae: 0.2326 - val_loss: 0.0991 - val_mae: 0.2085\n",
            "Epoch 87/90\n",
            "94/94 [==============================] - 0s 2ms/step - loss: 0.1290 - mae: 0.2354 - val_loss: 0.1033 - val_mae: 0.2129\n",
            "Epoch 88/90\n",
            "94/94 [==============================] - 0s 2ms/step - loss: 0.1934 - mae: 0.2734 - val_loss: 0.0966 - val_mae: 0.2039\n",
            "Epoch 89/90\n",
            "94/94 [==============================] - 0s 2ms/step - loss: 0.1119 - mae: 0.2231 - val_loss: 0.0978 - val_mae: 0.2068\n",
            "Epoch 90/90\n",
            "94/94 [==============================] - 0s 2ms/step - loss: 0.1361 - mae: 0.2138 - val_loss: 0.1060 - val_mae: 0.2125\n"
          ],
          "name": "stdout"
        }
      ]
    },
    {
      "cell_type": "code",
      "metadata": {
        "id": "hzImMFI2PBVD",
        "colab": {
          "base_uri": "https://localhost:8080/",
          "height": 295
        },
        "outputId": "32de6a6f-365e-4784-8160-97e76c4b4374"
      },
      "source": [
        "# graph of training and validation loss\n",
        "loss = history.history['loss']\n",
        "val_loss = history.history['val_loss']\n",
        "epochs = range(1, len(loss) + 1)\n",
        "plt.plot(epochs, loss,\"go\",label='Training loss')\n",
        "plt.plot(epochs, val_loss, 'r', label='Validation loss')\n",
        "plt.title('Training and validation loss')\n",
        "plt.xlabel('Epochs')\n",
        "plt.ylabel('Loss')\n",
        "plt.legend()\n",
        "plt.grid()\n",
        "plt.show()"
      ],
      "execution_count": 28,
      "outputs": [
        {
          "output_type": "display_data",
          "data": {
            "image/png": "[encoded data removed]",
            "text/plain": [
              "<Figure size 432x288 with 1 Axes>"
            ]
          },
          "metadata": {
            "tags": [],
            "needs_background": "light"
          }
        }
      ]
    },
    {
      "cell_type": "code",
      "metadata": {
        "id": "wgYqTsNt5Fme",
        "colab": {
          "base_uri": "https://localhost:8080/"
        },
        "outputId": "1207f762-ce52-4a6e-b0dc-fa551fbed682"
      },
      "source": [
        "# model evaluation\n",
        "network.evaluate(X_test,y_test)"
      ],
      "execution_count": 29,
      "outputs": [
        {
          "output_type": "stream",
          "text": [
            "2/2 [==============================] - 0s 6ms/step - loss: 0.2218 - mae: 0.3248\n"
          ],
          "name": "stdout"
        },
        {
          "output_type": "execute_result",
          "data": {
            "text/plain": [
              "[0.22182902693748474, 0.32478493452072144]"
            ]
          },
          "metadata": {
            "tags": []
          },
          "execution_count": 29
        }
      ]
    },
    {
      "cell_type": "code",
      "metadata": {
        "id": "GDSGr6yI8UVr"
      },
      "source": [
        "#model predictions \n",
        "#result=network.predict(X_test)\n",
        "result_1=network.predict((X_test)*y_std+y_mean)"
      ],
      "execution_count": 30,
      "outputs": []
    },
    {
      "cell_type": "code",
      "metadata": {
        "id": "XQBU2Sez8WWR",
        "colab": {
          "base_uri": "https://localhost:8080/",
          "height": 295
        },
        "outputId": "1870bf96-f65b-4f48-a410-582fa88377db"
      },
      "source": [
        "#graph of actual values and predicted values\n",
        "y=result_1\n",
        "y1=range(62)\n",
        "x=y_test\n",
        "plt.scatter(x, y1, label= \"Actual price\", color= \"red\", marker= \"*\", s=100)\n",
        "plt.scatter(y, y1, label= \"Predicted Price\", color= \"blue\", marker= \"+\", s=100)\n",
        "plt.xlabel('Price')\n",
        "plt.ylabel('Rows')\n",
        "plt.title('Actual price vs predicted price!')\n",
        "plt.legend()\n",
        "plt.grid()\n",
        "plt.show()"
      ],
      "execution_count": 31,
      "outputs": [
        {
          "output_type": "display_data",
          "data": {
            "image/png": "[encoded data removed]",
            "text/plain": [
              "<Figure size 432x288 with 1 Axes>"
            ]
          },
          "metadata": {
            "tags": [],
            "needs_background": "light"
          }
        }
      ]
    },
    {
      "cell_type": "code",
      "metadata": {
        "id": "Y4-Xbp5F13jO",
        "outputId": "145a438f-b46c-4073-e0f1-7acde2536d4b",
        "colab": {
          "base_uri": "https://localhost:8080/",
          "height": 32
        }
      },
      "source": [
        "pd.DataFrame()"
      ],
      "execution_count": 32,
      "outputs": [
        {
          "output_type": "execute_result",
          "data": {
            "text/html": [
              "<div>\n",
              "<style scoped>\n",
              "    .dataframe tbody tr th:only-of-type {\n",
              "        vertical-align: middle;\n",
              "    }\n",
              "\n",
              "    .dataframe tbody tr th {\n",
              "        vertical-align: top;\n",
              "    }\n",
              "\n",
              "    .dataframe thead th {\n",
              "        text-align: right;\n",
              "    }\n",
              "</style>\n",
              "<table border=\"1\" class=\"dataframe\">\n",
              "  <thead>\n",
              "    <tr style=\"text-align: right;\">\n",
              "      <th></th>\n",
              "    </tr>\n",
              "  </thead>\n",
              "  <tbody>\n",
              "  </tbody>\n",
              "</table>\n",
              "</div>"
            ],
            "text/plain": [
              "Empty DataFrame\n",
              "Columns: []\n",
              "Index: []"
            ]
          },
          "metadata": {
            "tags": []
          },
          "execution_count": 32
        }
      ]
    },
    {
      "cell_type": "code",
      "metadata": {
        "id": "sPGTpfZkxMmr"
      },
      "source": [
        ""
      ],
      "execution_count": 32,
      "outputs": []
    }
  ]
}